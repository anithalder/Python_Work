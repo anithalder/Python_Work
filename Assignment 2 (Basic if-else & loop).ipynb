{
 "cells": [
  {
   "cell_type": "code",
   "execution_count": 3,
   "id": "ee9f0b33",
   "metadata": {},
   "outputs": [
    {
     "name": "stdout",
     "output_type": "stream",
     "text": [
      "Enter the number:5\n",
      "5 is a odd number\n"
     ]
    }
   ],
   "source": [
    "# Odd or Even\n",
    "\n",
    "num = int(input(\"Enter the number:\"))\n",
    "if(num%2 == 0):\n",
    "    print(f\"{num} is a even number\")\n",
    "else:\n",
    "    print(f\"{num} is a odd number\")"
   ]
  },
  {
   "cell_type": "code",
   "execution_count": 5,
   "id": "d3a19438",
   "metadata": {},
   "outputs": [
    {
     "name": "stdout",
     "output_type": "stream",
     "text": [
      "Enter your date of birth:2003\n",
      "Congratulation!You are eligible🥳🥳\n"
     ]
    }
   ],
   "source": [
    "# Voter Eligibility\n",
    "\n",
    "from datetime import date\n",
    "year = int(input(\"Enter your date of birth:\"))\n",
    "today = date.today()\n",
    "age = today.year - year\n",
    "\n",
    "if(age>=18):\n",
    "    print(\"Congratulation!You are eligible🥳🥳\")\n",
    "else:\n",
    "    print(f\"Sorry!😔😔 You are eligible after {18 - age} year\")"
   ]
  },
  {
   "cell_type": "code",
   "execution_count": 25,
   "id": "038c35a8",
   "metadata": {},
   "outputs": [
    {
     "name": "stdout",
     "output_type": "stream",
     "text": [
      "Enter the 1st numbers:20\n",
      "Enter the 2nd numbers:10\n",
      "20 is greater\n"
     ]
    }
   ],
   "source": [
    "# Greater between two\n",
    "\n",
    "n1 = int(input(\"Enter the 1st numbers:\"))\n",
    "n2 = int(input(\"Enter the 2nd numbers:\"))\n",
    "if(n1>n2):\n",
    "    print(f\"{n1} is greater\")\n",
    "else:\n",
    "    print(f\"{n2} is greater\")"
   ]
  },
  {
   "cell_type": "code",
   "execution_count": null,
   "id": "2b66fedd",
   "metadata": {},
   "outputs": [],
   "source": [
    "# Grade of student\n",
    "\n",
    "score = int(input(\"Enter your score:\"))"
   ]
  }
 ],
 "metadata": {
  "kernelspec": {
   "display_name": "Python 3 (ipykernel)",
   "language": "python",
   "name": "python3"
  },
  "language_info": {
   "codemirror_mode": {
    "name": "ipython",
    "version": 3
   },
   "file_extension": ".py",
   "mimetype": "text/x-python",
   "name": "python",
   "nbconvert_exporter": "python",
   "pygments_lexer": "ipython3",
   "version": "3.11.4"
  }
 },
 "nbformat": 4,
 "nbformat_minor": 5
}

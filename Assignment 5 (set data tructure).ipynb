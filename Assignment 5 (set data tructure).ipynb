{
 "cells": [
  {
   "cell_type": "code",
   "execution_count": 1,
   "metadata": {},
   "outputs": [
    {
     "name": "stdout",
     "output_type": "stream",
     "text": [
      "The set is:  {1, 2, 3, 4, 5}\n"
     ]
    }
   ],
   "source": [
    "s = {i for i in range(1,5+1)}\n",
    "print(\"The set is: \",s)"
   ]
  },
  {
   "cell_type": "code",
   "execution_count": 1,
   "metadata": {},
   "outputs": [
    {
     "name": "stdout",
     "output_type": "stream",
     "text": [
      "Before add:  {1, 2, 3, 4, 5, 6}\n",
      "After add:  {1, 2, 3, 4, 5, 6, 7}\n"
     ]
    }
   ],
   "source": [
    "s = {1,2,3,4,5,6}\n",
    "print(\"Before add: \",s)\n",
    "s.add(7)\n",
    "print(\"After add: \",s)"
   ]
  },
  {
   "cell_type": "code",
   "execution_count": 1,
   "metadata": {},
   "outputs": [
    {
     "name": "stdout",
     "output_type": "stream",
     "text": [
      "Before remove:  {1, 2, 3, 4, 5, 6}\n",
      "After remove:  {1, 2, 4, 5, 6}\n"
     ]
    }
   ],
   "source": [
    "s = {1,2,3,4,5,6}\n",
    "print(\"Before remove: \",s)\n",
    "s.remove(3)\n",
    "print(\"After remove: \",s)"
   ]
  },
  {
   "cell_type": "code",
   "execution_count": 3,
   "metadata": {},
   "outputs": [
    {
     "name": "stdout",
     "output_type": "stream",
     "text": [
      "The element not found\n"
     ]
    }
   ],
   "source": [
    "s = {1,2,3,4,5}\n",
    "if 7 in s:\n",
    "    print(\"The element found\")\n",
    "else:\n",
    "    print(\"The element not found\")"
   ]
  },
  {
   "cell_type": "code",
   "execution_count": 7,
   "metadata": {},
   "outputs": [
    {
     "name": "stdout",
     "output_type": "stream",
     "text": [
      "The length of the set is:  10\n"
     ]
    }
   ],
   "source": [
    "s = {1,2,3,4,5,6,7,8,9,10}\n",
    "count = 0\n",
    "s = list(s)\n",
    "for i in s:\n",
    "    count += 1\n",
    "print(\"The length of the set is: \",count)"
   ]
  },
  {
   "cell_type": "code",
   "execution_count": 4,
   "metadata": {},
   "outputs": [
    {
     "name": "stdout",
     "output_type": "stream",
     "text": [
      "Before clear the list:  {1, 2, 3, 4, 5}\n",
      "After clear the list:  None\n"
     ]
    }
   ],
   "source": [
    "s = {1,2,3,4,5}\n",
    "print(\"Before clear the list: \",s)\n",
    "print(\"After clear the list: \",s.clear())"
   ]
  },
  {
   "cell_type": "code",
   "execution_count": 5,
   "metadata": {},
   "outputs": [
    {
     "name": "stdout",
     "output_type": "stream",
     "text": [
      "The set of even numbers is:  {2, 4, 6, 8, 10}\n"
     ]
    }
   ],
   "source": [
    "s = {i for i in range(1,10+1) if i%2 == 0}\n",
    "print(\"The set of even numbers is: \",s)"
   ]
  },
  {
   "cell_type": "code",
   "execution_count": 6,
   "metadata": {},
   "outputs": [
    {
     "name": "stdout",
     "output_type": "stream",
     "text": [
      "The set of odd numbers is:  {1, 3, 5, 7, 9}\n"
     ]
    }
   ],
   "source": [
    "s = {i for i in range(1,10+1) if i%2 != 0}\n",
    "print(\"The set of odd numbers is: \",s)"
   ]
  },
  {
   "cell_type": "code",
   "execution_count": 8,
   "metadata": {},
   "outputs": [
    {
     "name": "stdout",
     "output_type": "stream",
     "text": [
      "The union of two sets is:  {1, 2, 3, 4, 5, 6, 7, 8, 9, 10}\n",
      "The union of two sets is:  {1, 2, 3, 4, 5, 6, 7, 8, 9, 10}\n"
     ]
    }
   ],
   "source": [
    "s1 = {1,2,3,4,5}\n",
    "s2 = {6,7,8,9,10}\n",
    "print(\"The union of two sets is: \",s1|s2)\n",
    "print(\"The union of two sets is: \",s1.union(s2))"
   ]
  },
  {
   "cell_type": "code",
   "execution_count": 10,
   "metadata": {},
   "outputs": [
    {
     "name": "stdout",
     "output_type": "stream",
     "text": [
      "The union of two sets is:  {1, 3}\n",
      "The union of two sets is:  {1, 3}\n"
     ]
    }
   ],
   "source": [
    "s1 = {1,2,3,4,5}\n",
    "s2 = {6,7,3,9,1}\n",
    "print(\"The intersection of two sets is: \",s1&s2)\n",
    "print(\"The intersection of two sets is: \",s1.intersection(s2))"
   ]
  },
  {
   "cell_type": "code",
   "execution_count": 13,
   "metadata": {},
   "outputs": [
    {
     "name": "stdout",
     "output_type": "stream",
     "text": [
      "The difference of two sets is:  {4, 5}\n",
      "The difference of two sets is:  {8, 6}\n"
     ]
    }
   ],
   "source": [
    "s1 = {1,2,3,4,5}\n",
    "s2 = {6,3,8,2,1}\n",
    "print(\"The difference of two sets is: \",s1-s2)\n",
    "print(\"The difference of two sets is: \",s2.difference(s1))"
   ]
  },
  {
   "cell_type": "code",
   "execution_count": 21,
   "metadata": {},
   "outputs": [
    {
     "name": "stdout",
     "output_type": "stream",
     "text": [
      "set A is the subset of set B\n"
     ]
    }
   ],
   "source": [
    "B = {1,2,3,4,5}\n",
    "A = {3,4}\n",
    "if A <= B or A.issubset(B):\n",
    "    print(\"set A is the subset of set B\")\n",
    "else:\n",
    "    print(\"set A is not subset of set B\")"
   ]
  },
  {
   "cell_type": "code",
   "execution_count": 22,
   "metadata": {},
   "outputs": [
    {
     "name": "stdout",
     "output_type": "stream",
     "text": [
      "set A is the superset of set B\n"
     ]
    }
   ],
   "source": [
    "A = {1,2,3,4,5}\n",
    "B = {3,4}\n",
    "if A >= B or A.issuperset(B):\n",
    "    print(\"set A is the superset of set B\")\n",
    "else:\n",
    "    print(\"set A is not superset of set B\")"
   ]
  },
  {
   "cell_type": "code",
   "execution_count": 33,
   "metadata": {},
   "outputs": [
    {
     "name": "stdout",
     "output_type": "stream",
     "text": [
      "The set which created from a list is:  {1, 2, 3, 4, 5}\n",
      "The set which created from a list is:  {1, 2, 3, 4, 5}\n"
     ]
    }
   ],
   "source": [
    "lis = [1,2,3,4,5]\n",
    "s = set()\n",
    "s.update(lis)\n",
    "print(\"The set which created from a list is: \",s)\n",
    "\n",
    "s = {i for i in lis}\n",
    "print(\"The set which created from a list is: \",s)"
   ]
  },
  {
   "cell_type": "code",
   "execution_count": 29,
   "metadata": {},
   "outputs": [
    {
     "name": "stdout",
     "output_type": "stream",
     "text": [
      "Before converting:  [1, 2, 3, 4, 5]\n",
      "After converting:  {1, 2, 3, 4, 5}\n"
     ]
    }
   ],
   "source": [
    "lis = [1,2,3,4,5]\n",
    "print(\"Before converting: \",lis)\n",
    "print(\"After converting: \",set(lis))"
   ]
  },
  {
   "cell_type": "code",
   "execution_count": 30,
   "metadata": {},
   "outputs": [
    {
     "name": "stdout",
     "output_type": "stream",
     "text": [
      "Before converting:  {1, 2, 3, 4, 5}\n",
      "After converting:  [1, 2, 3, 4, 5]\n"
     ]
    }
   ],
   "source": [
    "s = {1,2,3,4,5}\n",
    "print(\"Before converting: \",s)\n",
    "print(\"After converting: \",list(s))"
   ]
  },
  {
   "cell_type": "code",
   "execution_count": 31,
   "metadata": {},
   "outputs": [
    {
     "name": "stdout",
     "output_type": "stream",
     "text": [
      "After remove random element:  {2, 3, 4, 5}\n"
     ]
    }
   ],
   "source": [
    "s = {1,2,3,4,5}\n",
    "s.pop()\n",
    "print(\"After remove random element: \",s)"
   ]
  },
  {
   "cell_type": "code",
   "execution_count": 35,
   "metadata": {},
   "outputs": [
    {
     "name": "stdout",
     "output_type": "stream",
     "text": [
      "1 is pop from the set\n"
     ]
    }
   ],
   "source": [
    "s = {10,7,1,9,2,4}\n",
    "print(f\"{s.pop()} is pop from the set\")"
   ]
  },
  {
   "cell_type": "code",
   "execution_count": null,
   "metadata": {},
   "outputs": [],
   "source": []
  }
 ],
 "metadata": {
  "kernelspec": {
   "display_name": "base",
   "language": "python",
   "name": "python3"
  },
  "language_info": {
   "codemirror_mode": {
    "name": "ipython",
    "version": 3
   },
   "file_extension": ".py",
   "mimetype": "text/x-python",
   "name": "python",
   "nbconvert_exporter": "python",
   "pygments_lexer": "ipython3",
   "version": "3.11.5"
  }
 },
 "nbformat": 4,
 "nbformat_minor": 2
}

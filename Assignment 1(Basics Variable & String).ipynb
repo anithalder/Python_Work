{
 "cells": [
  {
   "cell_type": "code",
   "execution_count": 2,
   "id": "8fe568ab",
   "metadata": {},
   "outputs": [
    {
     "name": "stdout",
     "output_type": "stream",
     "text": [
      "Enter the 1st num: 3\n",
      "Enter the 2nd num: 2\n",
      "Before Swappig the values are: 3 2\n",
      "After Swappig the values are: 2 3\n"
     ]
    }
   ],
   "source": [
    "# Swaping two numbers without 3rd variable\n",
    "\n",
    "x = int(input(\"Enter the 1st num: \"))\n",
    "y = int(input(\"Enter the 2nd num: \"))\n",
    "print(\"Before Swappig the values are:\",x,y)\n",
    "x = x + y\n",
    "y = x - y\n",
    "x = x - y\n",
    "print(\"After Swappig the values are:\",x,y)"
   ]
  },
  {
   "cell_type": "code",
   "execution_count": 3,
   "id": "c0ecaa45",
   "metadata": {},
   "outputs": [
    {
     "name": "stdout",
     "output_type": "stream",
     "text": [
      "Enter the length of rectangle: 10\n",
      "Enter the width of rectangle: 15\n",
      "The area of rectangle: 150\n"
     ]
    }
   ],
   "source": [
    "# Area of rectangle\n",
    "\n",
    "l = int(input(\"Enter the length of rectangle: \"))\n",
    "w = int(input(\"Enter the width of rectangle: \"))\n",
    "area = l * w\n",
    "print(\"The area of rectangle:\",area)"
   ]
  },
  {
   "cell_type": "code",
   "execution_count": 4,
   "id": "8eeaed98",
   "metadata": {},
   "outputs": [
    {
     "name": "stdout",
     "output_type": "stream",
     "text": [
      "Enter the value in celsius:10\n",
      "The Fahrenheit value is: 50.0\n"
     ]
    }
   ],
   "source": [
    "# Celsius to fahrenheit conversion\n",
    "\n",
    "c = int(input(\"Enter the value in celsius:\"))\n",
    "f = c * (9/5) + 32\n",
    "print(\"The Fahrenheit value is:\",f)"
   ]
  },
  {
   "cell_type": "code",
   "execution_count": 1,
   "id": "4f80a9ee",
   "metadata": {},
   "outputs": [
    {
     "name": "stdout",
     "output_type": "stream",
     "text": [
      "Enter the String:anit\n",
      "The length of string is: 4\n"
     ]
    }
   ],
   "source": [
    "# String length\n",
    "\n",
    "st = input(\"Enter the String:\")\n",
    "print(\"The length of string is:\",len(st))"
   ]
  },
  {
   "cell_type": "code",
   "execution_count": 13,
   "id": "5db8f817",
   "metadata": {},
   "outputs": [
    {
     "name": "stdout",
     "output_type": "stream",
     "text": [
      "Enter the string:anit halder\n",
      "The number of vowels are: 4\n"
     ]
    }
   ],
   "source": [
    "# Vowels count\n",
    "\n",
    "count = 0\n",
    "string = input(\"Enter the string:\")\n",
    "vowels = set(\"aeiouAEIOU\")\n",
    "\n",
    "for lett in string:\n",
    "    if lett in vowels:\n",
    "        count = count + 1\n",
    "\n",
    "print(\"The number of vowels are:\",count)"
   ]
  },
  {
   "cell_type": "code",
   "execution_count": 5,
   "id": "f25f4d64",
   "metadata": {},
   "outputs": [
    {
     "name": "stdout",
     "output_type": "stream",
     "text": [
      "Enter the string:anit\n",
      "a\n",
      "na\n",
      "ina\n",
      "tina\n",
      "The reverse of string is: tina\n"
     ]
    }
   ],
   "source": [
    "# Reverse String\n",
    "\n",
    "string = input(\"Enter the string:\")\n",
    "\n",
    "s = \"\"\n",
    "\n",
    "for i in string:\n",
    "    s = i + s\n",
    "    print(s)\n",
    "\n",
    "print(\"The reverse of string is:\",s)"
   ]
  },
  {
   "cell_type": "code",
   "execution_count": 10,
   "id": "10ba7dbd",
   "metadata": {},
   "outputs": [
    {
     "name": "stdout",
     "output_type": "stream",
     "text": [
      "Enter the string:madam\n",
      "\n",
      "\tThis is a plindrom string\n"
     ]
    }
   ],
   "source": [
    "# String palindrom or not\n",
    "\n",
    "string = input(\"Enter the string:\")\n",
    "\n",
    "temp = \"\"\n",
    "\n",
    "for i in string:\n",
    "    temp = i + temp\n",
    "\n",
    "if temp == string:\n",
    "    print(\"\\n\\tThis is a plindrom string\")\n",
    "else:\n",
    "    print(\"\\n\\tThis is not a palindrom\")"
   ]
  },
  {
   "cell_type": "code",
   "execution_count": 12,
   "id": "df6dc24b",
   "metadata": {},
   "outputs": [
    {
     "name": "stdout",
     "output_type": "stream",
     "text": [
      "Enter the string:anit halder\n",
      "The new string is: anithalder\n"
     ]
    }
   ],
   "source": [
    "# Remove space\n",
    "\n",
    "string = input(\"Enter the string:\")\n",
    "newstring = string.replace(\" \",\"\")\n",
    "\n",
    "print(\"The new string is:\",newstring)"
   ]
  },
  {
   "cell_type": "code",
   "execution_count": 13,
   "id": "608bc741",
   "metadata": {},
   "outputs": [
    {
     "name": "stdout",
     "output_type": "stream",
     "text": [
      "Enter the string:anit halder\n",
      "The new string is: anithalder\n"
     ]
    }
   ],
   "source": [
    "# Remove space\n",
    "\n",
    "string = input(\"Enter the string:\")\n",
    "\n",
    "s = \"\"\n",
    "space = \" \"\n",
    "\n",
    "for i in string:\n",
    "    if space != i:\n",
    "        s = s + i\n",
    "print(\"The new string is:\",s)"
   ]
  },
  {
   "cell_type": "code",
   "execution_count": null,
   "id": "48f764cb",
   "metadata": {},
   "outputs": [],
   "source": []
  }
 ],
 "metadata": {
  "kernelspec": {
   "display_name": "Python 3 (ipykernel)",
   "language": "python",
   "name": "python3"
  },
  "language_info": {
   "codemirror_mode": {
    "name": "ipython",
    "version": 3
   },
   "file_extension": ".py",
   "mimetype": "text/x-python",
   "name": "python",
   "nbconvert_exporter": "python",
   "pygments_lexer": "ipython3",
   "version": "3.11.4"
  }
 },
 "nbformat": 4,
 "nbformat_minor": 5
}

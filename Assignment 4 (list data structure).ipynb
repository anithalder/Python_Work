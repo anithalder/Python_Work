{
 "cells": [
  {
   "cell_type": "code",
   "execution_count": 3,
   "id": "8008824f-17c4-4bf5-bfea-8c0a32ed29c6",
   "metadata": {},
   "outputs": [
    {
     "name": "stdout",
     "output_type": "stream",
     "text": [
      "[1, 2, 3, 4, 5, 6, 7, 8, 9, 10]\n"
     ]
    }
   ],
   "source": [
    "l = [x for x in range(1,11)]\n",
    "print(l)"
   ]
  },
  {
   "cell_type": "code",
   "execution_count": 5,
   "id": "90371d88-091e-4de6-84d2-f66f91ec5edb",
   "metadata": {},
   "outputs": [
    {
     "name": "stdout",
     "output_type": "stream",
     "text": [
      "The size of the list is: 6\n"
     ]
    }
   ],
   "source": [
    "lis = [1,2,3,4,5,6]\n",
    "count = 0\n",
    "for i in lis:\n",
    "    count += 1\n",
    "print(f\"The size of the list is: {count}\")"
   ]
  },
  {
   "cell_type": "code",
   "execution_count": 7,
   "id": "56e498c0-ea5d-4f0a-bdb2-7d64c94c6e6a",
   "metadata": {
    "tags": []
   },
   "outputs": [
    {
     "name": "stdout",
     "output_type": "stream",
     "text": [
      "[1, 2, 3, 4, 5, 6]\n"
     ]
    }
   ],
   "source": [
    "lis = [1,2,3,4,5]\n",
    "lis.append(6)\n",
    "print(lis)"
   ]
  },
  {
   "cell_type": "code",
   "execution_count": 22,
   "id": "3191533b-33fa-4e04-ac3a-4f8a56ac9c42",
   "metadata": {
    "tags": []
   },
   "outputs": [
    {
     "name": "stdin",
     "output_type": "stream",
     "text": [
      "Enter how many elements you want: 5\n",
      "Enter element 1: 4\n",
      "Enter element 2: 3\n",
      "Enter element 3: 2\n",
      "Enter element 4: 1\n",
      "Enter element 5: 7\n",
      "Enter the position you want to insert: 4\n",
      "Enter the element you want to insert: 6\n"
     ]
    },
    {
     "name": "stdout",
     "output_type": "stream",
     "text": [
      "The list is:[4, 3, 2, 6, 1, 7]\n"
     ]
    }
   ],
   "source": [
    "n = eval(input(\"Enter how many elements you want:\"))\n",
    "lis = []\n",
    "for i in range(n):\n",
    "    val = eval(input(f\"Enter element {i + 1}:\"))\n",
    "    lis.append(val)\n",
    "pos = eval(input(\"Enter the position you want to insert:\"))\n",
    "ele = eval(input(\"Enter the element you want to insert:\"))\n",
    "lis.insert(pos-1,ele)\n",
    "print(f\"The list is:{lis}\")"
   ]
  },
  {
   "cell_type": "code",
   "execution_count": 28,
   "id": "526179b6-f429-439a-afaa-37581d9482f8",
   "metadata": {
    "tags": []
   },
   "outputs": [
    {
     "name": "stdin",
     "output_type": "stream",
     "text": [
      "Enter how many elements you want: 5\n",
      "Enter element 1: 1\n",
      "Enter element 2: 2\n",
      "Enter element 3: 3\n",
      "Enter element 4: 4\n",
      "Enter element 5: 5\n",
      "Enter the element you want to remove: 4\n"
     ]
    },
    {
     "name": "stdout",
     "output_type": "stream",
     "text": [
      "The list is:[1, 2, 3, 5]\n"
     ]
    }
   ],
   "source": [
    "n = eval(input(\"Enter how many elements you want:\"))\n",
    "lis = []\n",
    "for i in range(n):\n",
    "    val = eval(input(f\"Enter element {i + 1}:\"))\n",
    "    lis.append(val)\n",
    "ele = eval(input(\"Enter the element you want to remove:\"))\n",
    "if ele in lis:\n",
    "    lis.remove(ele)\n",
    "    print(f\"The list is:{lis}\")\n",
    "else:\n",
    "    print(\"\\t! Sorry given number is not present in list !\")"
   ]
  },
  {
   "cell_type": "code",
   "execution_count": 32,
   "id": "badec6ce-5ac9-43e9-b8c5-5082601a5cb4",
   "metadata": {
    "tags": []
   },
   "outputs": [
    {
     "name": "stdin",
     "output_type": "stream",
     "text": [
      "Enter how many elements you want: 6\n",
      "Enter element 1: 1\n",
      "Enter element 2: 2\n",
      "Enter element 3: 3\n",
      "Enter element 4: 4\n",
      "Enter element 5: 5\n",
      "Enter element 6: 6\n",
      "Enter the position you want to remove: 3\n"
     ]
    },
    {
     "name": "stdout",
     "output_type": "stream",
     "text": [
      "The list is:[1, 2, 4, 5, 6]\n"
     ]
    }
   ],
   "source": [
    "n = eval(input(\"Enter how many elements you want:\"))\n",
    "lis = []\n",
    "for i in range(n):\n",
    "    val = eval(input(f\"Enter element {i + 1}:\"))\n",
    "    lis.append(val)\n",
    "pos = eval(input(\"Enter the position you want to remove:\"))\n",
    "if ele in lis:\n",
    "    lis.pop(pos-1)\n",
    "    print(f\"The list is:{lis}\")\n",
    "else:\n",
    "    print(\"\\t! Sorry given number is not present in list !\")"
   ]
  },
  {
   "cell_type": "code",
   "execution_count": 34,
   "id": "15cbc715-ecd9-4257-8c33-f9ff30ee7a88",
   "metadata": {
    "tags": []
   },
   "outputs": [
    {
     "name": "stdin",
     "output_type": "stream",
     "text": [
      "Enter how many elements you want: 5\n",
      "Enter element 1: 1\n",
      "Enter element 2: 2\n",
      "Enter element 3: 3\n",
      "Enter element 4: 4\n",
      "Enter element 5: 5\n",
      "Enter the element you want to find: 3\n"
     ]
    },
    {
     "name": "stdout",
     "output_type": "stream",
     "text": [
      "\t! Element found !\n"
     ]
    }
   ],
   "source": [
    "n = eval(input(\"Enter how many elements you want:\"))\n",
    "lis = []\n",
    "for i in range(n):\n",
    "    val = eval(input(f\"Enter element {i + 1}:\"))\n",
    "    lis.append(val)\n",
    "ele = eval(input(\"Enter the element you want to find:\"))\n",
    "if ele in lis:\n",
    "    print(f\"\\t! Element found !\")\n",
    "else:\n",
    "    print(f\"\\t! Element Not found !\")"
   ]
  },
  {
   "cell_type": "code",
   "execution_count": 39,
   "id": "b2d97df2-d539-42ee-8b2f-2ff829adda31",
   "metadata": {
    "tags": []
   },
   "outputs": [
    {
     "name": "stdout",
     "output_type": "stream",
     "text": [
      "\tThe index of first  occurence of 4 in the list is 4\n"
     ]
    }
   ],
   "source": [
    "lis = [1,2,3,4,5,4,6,7]\n",
    "ele = 4\n",
    "for i in range(len(lis)):\n",
    "    if lis[i] == ele:\n",
    "        index = i\n",
    "        break\n",
    "if index != 0:\n",
    "    print(f\"\\tThe index of first  occurence of {ele} in the list is {index+1}\")\n",
    "else:\n",
    "    print(\"\\t! Sorry element not present in the list !\")"
   ]
  },
  {
   "cell_type": "code",
   "execution_count": 40,
   "id": "69af9bec-0ca5-4b41-8b92-297e7431615e",
   "metadata": {
    "tags": []
   },
   "outputs": [
    {
     "name": "stdout",
     "output_type": "stream",
     "text": [
      "[5, 4, 3, 2, 1]\n"
     ]
    }
   ],
   "source": [
    "lis = [1,2,3,4,5]\n",
    "lis.reverse()\n",
    "print(lis)"
   ]
  },
  {
   "cell_type": "code",
   "execution_count": 41,
   "id": "178ebbe7-8fe4-4477-a738-55414331fac6",
   "metadata": {
    "tags": []
   },
   "outputs": [
    {
     "name": "stdout",
     "output_type": "stream",
     "text": [
      "\tThe number of occurence of 4 in list is 2\n"
     ]
    }
   ],
   "source": [
    "lis = [1,2,3,4,5,4,6,7]\n",
    "ele = 4\n",
    "count = 0\n",
    "for i in range(len(lis)):\n",
    "    if lis[i] == ele:\n",
    "        count += 1\n",
    "if count != 0:\n",
    "    print(f\"\\tThe number of occurence of {ele} in list is {count}\")\n",
    "else:\n",
    "    print(\"\\t! Sorry element not present in the list !\")"
   ]
  },
  {
   "cell_type": "code",
   "execution_count": 45,
   "id": "17654556-577e-47f3-903c-071ba46661c7",
   "metadata": {
    "tags": []
   },
   "outputs": [
    {
     "name": "stdout",
     "output_type": "stream",
     "text": [
      "Before sorting:[3, 5, 1, 7, 4]\n",
      "After Sorting:[1, 3, 4, 5, 7]\n"
     ]
    }
   ],
   "source": [
    "# sort in assecnding order\n",
    "lis = [3,5,1,7,4]\n",
    "print(f\"Before sorting:{lis}\")\n",
    "lis.sort()\n",
    "print(f\"After Sorting:{lis}\")"
   ]
  },
  {
   "cell_type": "code",
   "execution_count": 46,
   "id": "59b06e4d-2f11-4c1e-b045-760cd96bfc06",
   "metadata": {
    "tags": []
   },
   "outputs": [
    {
     "name": "stdout",
     "output_type": "stream",
     "text": [
      "Before sorting:[3, 5, 1, 7, 4]\n",
      "After Sorting:[7, 5, 4, 3, 1]\n"
     ]
    }
   ],
   "source": [
    "# sort in decending order\n",
    "lis = [3,5,1,7,4]\n",
    "print(f\"Before sorting:{lis}\")\n",
    "lis.sort(reverse = True)\n",
    "print(f\"After Sorting:{lis}\")"
   ]
  },
  {
   "cell_type": "code",
   "execution_count": 48,
   "id": "ea564328-bc92-4745-97c9-44f814920de5",
   "metadata": {
    "tags": []
   },
   "outputs": [
    {
     "name": "stdout",
     "output_type": "stream",
     "text": [
      "The even number between 1 to 20 are:[2, 4, 6, 8, 10, 12, 14, 16, 18, 20]\n"
     ]
    }
   ],
   "source": [
    "lis = [i for i in range(1,21) if i%2 == 0]\n",
    "print(f\"The even number between 1 to 20 are:{lis}\")"
   ]
  },
  {
   "cell_type": "code",
   "execution_count": 50,
   "id": "5d9649e1-7143-4d9f-a621-d217c9fd04d9",
   "metadata": {
    "tags": []
   },
   "outputs": [
    {
     "name": "stdout",
     "output_type": "stream",
     "text": [
      "The odd number between 1 to 20 are:[1, 3, 5, 7, 9, 11, 13, 15, 17, 19]\n"
     ]
    }
   ],
   "source": [
    "lis = [i for i in range(1,21) if i%2 != 0]\n",
    "print(f\"The odd number between 1 to 20 are:{lis}\")"
   ]
  },
  {
   "cell_type": "code",
   "execution_count": 54,
   "id": "cf5b2681-59c6-4cd2-a2b6-8dea13813bf7",
   "metadata": {
    "tags": []
   },
   "outputs": [
    {
     "name": "stdout",
     "output_type": "stream",
     "text": [
      "The sum of all elements in the list: 15\n"
     ]
    }
   ],
   "source": [
    "lis = [1,2,3,4,5]\n",
    "s = 0\n",
    "for ele in lis:\n",
    "    s += ele\n",
    "print(f\"The sum of all elements in the list: {s}\")"
   ]
  },
  {
   "cell_type": "code",
   "execution_count": 2,
   "id": "746993d0-3de5-4a3b-9daa-0f42541e83f5",
   "metadata": {
    "tags": []
   },
   "outputs": [
    {
     "name": "stdout",
     "output_type": "stream",
     "text": [
      "The maximum value in the list is: 6\n",
      "The maximum value in the list is: 6\n"
     ]
    }
   ],
   "source": [
    "lis = [1,4,2,6,3]\n",
    "ma = max(lis)\n",
    "print(f\"The maximum value in the list is: {ma}\")\n",
    "\n",
    "m = lis[0]\n",
    "for i in range(len(lis)):\n",
    "    if lis[i] > m:\n",
    "        m = lis[i]\n",
    "print(f\"The maximum value in the list is: {m}\")"
   ]
  },
  {
   "cell_type": "code",
   "execution_count": 3,
   "id": "7824bad7-d3c3-4125-991b-a4d6622f1361",
   "metadata": {
    "tags": []
   },
   "outputs": [
    {
     "name": "stdout",
     "output_type": "stream",
     "text": [
      "The maximum value in the list is: 1\n",
      "The maximum value in the list is: 1\n"
     ]
    }
   ],
   "source": [
    "lis = [1,4,2,6,3]\n",
    "m = min(lis)\n",
    "print(f\"The maximum value in the list is: {m}\")\n",
    "\n",
    "m = lis[0]\n",
    "for i in range(len(lis)):\n",
    "    if lis[i] < m:\n",
    "        m = lis[i]\n",
    "print(f\"The maximum value in the list is: {m}\")"
   ]
  },
  {
   "cell_type": "code",
   "execution_count": 5,
   "id": "1637fccd-e09a-4254-bdc4-1238d526142d",
   "metadata": {
    "tags": []
   },
   "outputs": [
    {
     "name": "stdout",
     "output_type": "stream",
     "text": [
      "The list of squares between 1 to 10 is: [1, 4, 9, 16, 25, 36, 49, 64, 81, 100]\n"
     ]
    }
   ],
   "source": [
    "lis = [pow(i,2) for i in range(1,11)]\n",
    "print(f\"The list of squares between 1 to 10 is: {lis}\")"
   ]
  },
  {
   "cell_type": "code",
   "execution_count": 17,
   "id": "09b3ca53-fab7-41ec-a8ba-262a2e879dfb",
   "metadata": {
    "tags": []
   },
   "outputs": [
    {
     "name": "stdout",
     "output_type": "stream",
     "text": [
      "The list of random numbers are: [1, 1, 2, 2, 2, 2, 2, 2, 2, 1]\n"
     ]
    }
   ],
   "source": [
    "lis = []\n",
    "n = 10\n",
    "for i in range(n):\n",
    "    lis.append(random.randint(1,2))\n",
    "print(f\"The list of random numbers are: {lis}\")"
   ]
  },
  {
   "cell_type": "code",
   "execution_count": null,
   "id": "9a1521c5-5e00-49b1-ac94-e2cbd48a01db",
   "metadata": {},
   "outputs": [],
   "source": []
  }
 ],
 "metadata": {
  "kernelspec": {
   "display_name": "Python 3 (ipykernel)",
   "language": "python",
   "name": "python3"
  },
  "language_info": {
   "codemirror_mode": {
    "name": "ipython",
    "version": 3
   },
   "file_extension": ".py",
   "mimetype": "text/x-python",
   "name": "python",
   "nbconvert_exporter": "python",
   "pygments_lexer": "ipython3",
   "version": "3.11.4"
  }
 },
 "nbformat": 4,
 "nbformat_minor": 5
}

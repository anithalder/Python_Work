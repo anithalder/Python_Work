{
 "cells": [
  {
   "cell_type": "code",
   "execution_count": 3,
   "id": "8008824f-17c4-4bf5-bfea-8c0a32ed29c6",
   "metadata": {},
   "outputs": [
    {
     "name": "stdout",
     "output_type": "stream",
     "text": [
      "[1, 2, 3, 4, 5, 6, 7, 8, 9, 10]\n"
     ]
    }
   ],
   "source": [
    "l = [x for x in range(1,11)]\n",
    "print(l)"
   ]
  },
  {
   "cell_type": "code",
   "execution_count": 5,
   "id": "90371d88-091e-4de6-84d2-f66f91ec5edb",
   "metadata": {},
   "outputs": [
    {
     "name": "stdout",
     "output_type": "stream",
     "text": [
      "The size of the list is: 6\n"
     ]
    }
   ],
   "source": [
    "lis = [1,2,3,4,5,6]\n",
    "count = 0\n",
    "for i in lis:\n",
    "    count += 1\n",
    "print(f\"The size of the list is: {count}\")"
   ]
  },
  {
   "cell_type": "code",
   "execution_count": 7,
   "id": "56e498c0-ea5d-4f0a-bdb2-7d64c94c6e6a",
   "metadata": {
    "tags": []
   },
   "outputs": [
    {
     "name": "stdout",
     "output_type": "stream",
     "text": [
      "[1, 2, 3, 4, 5, 6]\n"
     ]
    }
   ],
   "source": [
    "lis = [1,2,3,4,5]\n",
    "lis.append(6)\n",
    "print(lis)"
   ]
  },
  {
   "cell_type": "code",
   "execution_count": 22,
   "id": "3191533b-33fa-4e04-ac3a-4f8a56ac9c42",
   "metadata": {
    "tags": []
   },
   "outputs": [
    {
     "name": "stdout",
     "output_type": "stream",
     "text": [
      "Enter how many elements you want: 5\n",
      "Enter element 1: 4\n",
      "Enter element 2: 3\n",
      "Enter element 3: 2\n",
      "Enter element 4: 1\n",
      "Enter element 5: 7\n",
      "Enter the position you want to insert: 4\n",
      "Enter the element you want to insert: 6\n"
     ]
    },
    {
     "name": "stdout",
     "output_type": "stream",
     "text": [
      "The list is:[4, 3, 2, 6, 1, 7]\n"
     ]
    }
   ],
   "source": [
    "n = eval(input(\"Enter how many elements you want:\"))\n",
    "lis = []\n",
    "for i in range(n):\n",
    "    val = eval(input(f\"Enter element {i + 1}:\"))\n",
    "    lis.append(val)\n",
    "pos = eval(input(\"Enter the position you want to insert:\"))\n",
    "ele = eval(input(\"Enter the element you want to insert:\"))\n",
    "lis.insert(pos-1,ele)\n",
    "print(f\"The list is:{lis}\")"
   ]
  },
  {
   "cell_type": "code",
   "execution_count": 28,
   "id": "526179b6-f429-439a-afaa-37581d9482f8",
   "metadata": {
    "tags": []
   },
   "outputs": [
    {
     "name": "stdout",
     "output_type": "stream",
     "text": [
      "Enter how many elements you want: 5\n",
      "Enter element 1: 1\n",
      "Enter element 2: 2\n",
      "Enter element 3: 3\n",
      "Enter element 4: 4\n",
      "Enter element 5: 5\n",
      "Enter the element you want to remove: 4\n"
     ]
    },
    {
     "name": "stdout",
     "output_type": "stream",
     "text": [
      "The list is:[1, 2, 3, 5]\n"
     ]
    }
   ],
   "source": [
    "n = eval(input(\"Enter how many elements you want:\"))\n",
    "lis = []\n",
    "for i in range(n):\n",
    "    val = eval(input(f\"Enter element {i + 1}:\"))\n",
    "    lis.append(val)\n",
    "ele = eval(input(\"Enter the element you want to remove:\"))\n",
    "if ele in lis:\n",
    "    lis.remove(ele)\n",
    "    print(f\"The list is:{lis}\")\n",
    "else:\n",
    "    print(\"\\t! Sorry given number is not present in list !\")"
   ]
  },
  {
   "cell_type": "code",
   "execution_count": 32,
   "id": "badec6ce-5ac9-43e9-b8c5-5082601a5cb4",
   "metadata": {
    "tags": []
   },
   "outputs": [
    {
     "name": "stdout",
     "output_type": "stream",
     "text": [
      "Enter how many elements you want: 6\n",
      "Enter element 1: 1\n",
      "Enter element 2: 2\n",
      "Enter element 3: 3\n",
      "Enter element 4: 4\n",
      "Enter element 5: 5\n",
      "Enter element 6: 6\n",
      "Enter the position you want to remove: 3\n"
     ]
    },
    {
     "name": "stdout",
     "output_type": "stream",
     "text": [
      "The list is:[1, 2, 4, 5, 6]\n"
     ]
    }
   ],
   "source": [
    "n = eval(input(\"Enter how many elements you want:\"))\n",
    "lis = []\n",
    "for i in range(n):\n",
    "    val = eval(input(f\"Enter element {i + 1}:\"))\n",
    "    lis.append(val)\n",
    "pos = eval(input(\"Enter the position you want to remove:\"))\n",
    "if ele in lis:\n",
    "    lis.pop(pos-1)\n",
    "    print(f\"The list is:{lis}\")\n",
    "else:\n",
    "    print(\"\\t! Sorry given number is not present in list !\")"
   ]
  },
  {
   "cell_type": "code",
   "execution_count": 34,
   "id": "15cbc715-ecd9-4257-8c33-f9ff30ee7a88",
   "metadata": {
    "tags": []
   },
   "outputs": [
    {
     "name": "stdout",
     "output_type": "stream",
     "text": [
      "Enter how many elements you want: 5\n",
      "Enter element 1: 1\n",
      "Enter element 2: 2\n",
      "Enter element 3: 3\n",
      "Enter element 4: 4\n",
      "Enter element 5: 5\n",
      "Enter the element you want to find: 3\n"
     ]
    },
    {
     "name": "stdout",
     "output_type": "stream",
     "text": [
      "\t! Element found !\n"
     ]
    }
   ],
   "source": [
    "n = eval(input(\"Enter how many elements you want:\"))\n",
    "lis = []\n",
    "for i in range(n):\n",
    "    val = eval(input(f\"Enter element {i + 1}:\"))\n",
    "    lis.append(val)\n",
    "ele = eval(input(\"Enter the element you want to find:\"))\n",
    "if ele in lis:\n",
    "    print(f\"\\t! Element found !\")\n",
    "else:\n",
    "    print(f\"\\t! Element Not found !\")"
   ]
  },
  {
   "cell_type": "code",
   "execution_count": 39,
   "id": "b2d97df2-d539-42ee-8b2f-2ff829adda31",
   "metadata": {
    "tags": []
   },
   "outputs": [
    {
     "name": "stdout",
     "output_type": "stream",
     "text": [
      "\tThe index of first  occurence of 4 in the list is 4\n"
     ]
    }
   ],
   "source": [
    "lis = [1,2,3,4,5,4,6,7]\n",
    "ele = 4\n",
    "for i in range(len(lis)):\n",
    "    if lis[i] == ele:\n",
    "        index = i\n",
    "        break\n",
    "if index != 0:\n",
    "    print(f\"\\tThe index of first  occurrence of {ele} in the list is {index+1}\")\n",
    "else:\n",
    "    print(\"\\t! Sorry element not present in the list !\")"
   ]
  },
  {
   "cell_type": "code",
   "execution_count": 40,
   "id": "69af9bec-0ca5-4b41-8b92-297e7431615e",
   "metadata": {
    "tags": []
   },
   "outputs": [
    {
     "name": "stdout",
     "output_type": "stream",
     "text": [
      "[5, 4, 3, 2, 1]\n"
     ]
    }
   ],
   "source": [
    "lis = [1,2,3,4,5]\n",
    "lis.reverse()\n",
    "print(lis)"
   ]
  },
  {
   "cell_type": "code",
   "execution_count": 41,
   "id": "178ebbe7-8fe4-4477-a738-55414331fac6",
   "metadata": {
    "tags": []
   },
   "outputs": [
    {
     "name": "stdout",
     "output_type": "stream",
     "text": [
      "\tThe number of occurence of 4 in list is 2\n"
     ]
    }
   ],
   "source": [
    "lis = [1,2,3,4,5,4,6,7]\n",
    "ele = 4\n",
    "count = 0\n",
    "for i in range(len(lis)):\n",
    "    if lis[i] == ele:\n",
    "        count += 1\n",
    "if count != 0:\n",
    "    print(f\"\\tThe number of occurrence of {ele} in list is {count}\")\n",
    "else:\n",
    "    print(\"\\t! Sorry element not present in the list !\")"
   ]
  },
  {
   "cell_type": "code",
   "execution_count": 45,
   "id": "17654556-577e-47f3-903c-071ba46661c7",
   "metadata": {
    "tags": []
   },
   "outputs": [
    {
     "name": "stdout",
     "output_type": "stream",
     "text": [
      "Before sorting:[3, 5, 1, 7, 4]\n",
      "After Sorting:[1, 3, 4, 5, 7]\n"
     ]
    }
   ],
   "source": [
    "# sort in assecnding order\n",
    "lis = [3,5,1,7,4]\n",
    "print(f\"Before sorting:{lis}\")\n",
    "lis.sort()\n",
    "print(f\"After Sorting:{lis}\")"
   ]
  },
  {
   "cell_type": "code",
   "execution_count": 46,
   "id": "59b06e4d-2f11-4c1e-b045-760cd96bfc06",
   "metadata": {
    "tags": []
   },
   "outputs": [
    {
     "name": "stdout",
     "output_type": "stream",
     "text": [
      "Before sorting:[3, 5, 1, 7, 4]\n",
      "After Sorting:[7, 5, 4, 3, 1]\n"
     ]
    }
   ],
   "source": [
    "# sort in decending order\n",
    "lis = [3,5,1,7,4]\n",
    "print(f\"Before sorting:{lis}\")\n",
    "lis.sort(reverse = True)\n",
    "print(f\"After Sorting:{lis}\")"
   ]
  },
  {
   "cell_type": "code",
   "execution_count": 48,
   "id": "ea564328-bc92-4745-97c9-44f814920de5",
   "metadata": {
    "tags": []
   },
   "outputs": [
    {
     "name": "stdout",
     "output_type": "stream",
     "text": [
      "The even number between 1 to 20 are:[2, 4, 6, 8, 10, 12, 14, 16, 18, 20]\n"
     ]
    }
   ],
   "source": [
    "lis = [i for i in range(1,21) if i%2 == 0]\n",
    "print(f\"The even number between 1 to 20 are:{lis}\")"
   ]
  },
  {
   "cell_type": "code",
   "execution_count": 50,
   "id": "5d9649e1-7143-4d9f-a621-d217c9fd04d9",
   "metadata": {
    "tags": []
   },
   "outputs": [
    {
     "name": "stdout",
     "output_type": "stream",
     "text": [
      "The odd number between 1 to 20 are:[1, 3, 5, 7, 9, 11, 13, 15, 17, 19]\n"
     ]
    }
   ],
   "source": [
    "lis = [i for i in range(1,21) if i%2 != 0]\n",
    "print(f\"The odd number between 1 to 20 are:{lis}\")"
   ]
  },
  {
   "cell_type": "code",
   "execution_count": 54,
   "id": "cf5b2681-59c6-4cd2-a2b6-8dea13813bf7",
   "metadata": {
    "tags": []
   },
   "outputs": [
    {
     "name": "stdout",
     "output_type": "stream",
     "text": [
      "The sum of all elements in the list: 15\n"
     ]
    }
   ],
   "source": [
    "lis = [1,2,3,4,5]\n",
    "s = 0\n",
    "for ele in lis:\n",
    "    s += ele\n",
    "print(f\"The sum of all elements in the list: {s}\")"
   ]
  },
  {
   "cell_type": "code",
   "execution_count": 2,
   "id": "746993d0-3de5-4a3b-9daa-0f42541e83f5",
   "metadata": {
    "tags": []
   },
   "outputs": [
    {
     "name": "stdout",
     "output_type": "stream",
     "text": [
      "The maximum value in the list is: 6\n",
      "The maximum value in the list is: 6\n"
     ]
    }
   ],
   "source": [
    "lis = [1,4,2,6,3]\n",
    "ma = max(lis)\n",
    "print(f\"The maximum value in the list is: {ma}\")\n",
    "\n",
    "m = lis[0]\n",
    "for i in range(len(lis)):\n",
    "    if lis[i] > m:\n",
    "        m = lis[i]\n",
    "print(f\"The maximum value in the list is: {m}\")"
   ]
  },
  {
   "cell_type": "code",
   "execution_count": 3,
   "id": "7824bad7-d3c3-4125-991b-a4d6622f1361",
   "metadata": {
    "tags": []
   },
   "outputs": [
    {
     "name": "stdout",
     "output_type": "stream",
     "text": [
      "The maximum value in the list is: 1\n",
      "The maximum value in the list is: 1\n"
     ]
    }
   ],
   "source": [
    "lis = [1,4,2,6,3]\n",
    "m = min(lis)\n",
    "print(f\"The maximum value in the list is: {m}\")\n",
    "\n",
    "m = lis[0]\n",
    "for i in range(len(lis)):\n",
    "    if lis[i] < m:\n",
    "        m = lis[i]\n",
    "print(f\"The maximum value in the list is: {m}\")"
   ]
  },
  {
   "cell_type": "code",
   "execution_count": 5,
   "id": "1637fccd-e09a-4254-bdc4-1238d526142d",
   "metadata": {
    "tags": []
   },
   "outputs": [
    {
     "name": "stdout",
     "output_type": "stream",
     "text": [
      "The list of squares between 1 to 10 is: [1, 4, 9, 16, 25, 36, 49, 64, 81, 100]\n"
     ]
    }
   ],
   "source": [
    "lis = [pow(i,2) for i in range(1,11)]\n",
    "print(f\"The list of squares between 1 to 10 is: {lis}\")"
   ]
  },
  {
   "cell_type": "code",
   "execution_count": 17,
   "id": "09b3ca53-fab7-41ec-a8ba-262a2e879dfb",
   "metadata": {
    "tags": []
   },
   "outputs": [
    {
     "name": "stdout",
     "output_type": "stream",
     "text": [
      "The list of random numbers are: [1, 1, 2, 2, 2, 2, 2, 2, 2, 1]\n"
     ]
    }
   ],
   "source": [
    "import random\n",
    "\n",
    "lis = []\n",
    "n = 10\n",
    "for i in range(n):\n",
    "    lis.append(random.randint(1,2))\n",
    "print(f\"The list of random numbers are: {lis}\")"
   ]
  },
  {
   "cell_type": "code",
   "execution_count": 6,
   "id": "9a1521c5-5e00-49b1-ac94-e2cbd48a01db",
   "metadata": {
    "tags": []
   },
   "outputs": [
    {
     "name": "stdout",
     "output_type": "stream",
     "text": [
      "\t! No common elements found !\n"
     ]
    }
   ],
   "source": [
    "lis1 = [10,20,30,40,50]\n",
    "lis2 = [70,90,80]\n",
    "common = []\n",
    "for i in lis1:\n",
    "    if i in lis2:\n",
    "        common.append(i)\n",
    "if len(common) != 0:\n",
    "    print(f\"The common elements are: {common}\")\n",
    "else:\n",
    "    print(\"\\t! No common elements found !\")"
   ]
  },
  {
   "cell_type": "code",
   "execution_count": 4,
   "id": "b386d69f-f3d4-416d-81f9-9d5e4532ca4c",
   "metadata": {},
   "outputs": [
    {
     "name": "stdout",
     "output_type": "stream",
     "text": [
      "The length of the lists are same and the uncommon element between two list are [30, 40, 50]\n"
     ]
    }
   ],
   "source": [
    "lis1 = [10,20,30,40,50]\n",
    "lis2 = [70,90,80,10,20]\n",
    "uncommon = []\n",
    "for i in lis1:\n",
    "    if i not in lis2:\n",
    "        uncommon.append(i)\n",
    "if len(lis1) == len(lis2):\n",
    "    print(\"The length of the lists are same\",end=\"\")\n",
    "else:\n",
    "    print(\"The length of the lists are not same\",end=\"\")\n",
    "if len(uncommon) != 0:\n",
    "    print(f\" and the uncommon element between two list are {uncommon}\")\n",
    "else:\n",
    "    print(\" and there are all elements are same\")"
   ]
  },
  {
   "cell_type": "code",
   "execution_count": 7,
   "id": "b32a774e-78f8-487d-883c-20bedd25ffde",
   "metadata": {
    "tags": []
   },
   "outputs": [
    {
     "name": "stdout",
     "output_type": "stream",
     "text": [
      "The merged list is [10, 20, 30, 40, 50, 60, 70, 80]\n"
     ]
    }
   ],
   "source": [
    "lis1 = [10,20,30,40,50]\n",
    "lis2 = [60,70,80]\n",
    "lis1.extend(lis2)\n",
    "print(f\"The merged list is {lis1}\")"
   ]
  },
  {
   "cell_type": "code",
   "execution_count": 11,
   "id": "ec099dc6-bc71-4209-8927-ccec159e120e",
   "metadata": {
    "tags": []
   },
   "outputs": [
    {
     "name": "stdout",
     "output_type": "stream",
     "text": [
      "The list before multiplying [1, 2, 3, 4, 5, 6, 7, 8]\n",
      "The list after multiplying each element by 2 is [2, 4, 6, 8, 10, 12, 14, 16]\n"
     ]
    }
   ],
   "source": [
    "lis = [1,2,3,4,5,6,7,8]\n",
    "print(f\"The list before multiplying {lis}\")\n",
    "lis = [i*2 for i in lis]\n",
    "print(f\"The list after multiplying each element by 2 is {lis}\")"
   ]
  },
  {
   "cell_type": "code",
   "execution_count": 13,
   "id": "31ce2935-d95b-4684-82c2-4c7d6dc62176",
   "metadata": {
    "tags": []
   },
   "outputs": [
    {
     "name": "stdout",
     "output_type": "stream",
     "text": [
      "The given list is [1, 2, 3, 4, 5, 6, 7, 8]\n",
      "The filtered list of even numbers is [2, 4, 6, 8]\n"
     ]
    }
   ],
   "source": [
    "lis = [1,2,3,4,5,6,7,8]\n",
    "print(f\"The given list is {lis}\")\n",
    "lis = [i for i in lis if i%2 == 0]\n",
    "print(f\"The filtered list of even numbers is {lis}\")"
   ]
  },
  {
   "cell_type": "code",
   "execution_count": 18,
   "id": "787997e1-c8b9-437d-a5dc-f6f890f0c1d3",
   "metadata": {
    "tags": []
   },
   "outputs": [
    {
     "name": "stdout",
     "output_type": "stream",
     "text": [
      "The given list is ['1', '2', 3, 4, '5']\n",
      "The converted list is [1, 2, 3, 4, 5]\n"
     ]
    }
   ],
   "source": [
    "lis = ['1','2',3,4,'5']\n",
    "print(f\"The given list is {lis}\")\n",
    "lis = [int(i) if type(i) == str else i for i in lis]\n",
    "print(f\"The converted list is {lis}\")"
   ]
  },
  {
   "cell_type": "code",
   "execution_count": 20,
   "id": "bb50a7b9-a9aa-4e78-b431-018389eeb9bd",
   "metadata": {
    "tags": []
   },
   "outputs": [
    {
     "name": "stdout",
     "output_type": "stream",
     "text": [
      "The given list is [1, 2, 3, 4, '5']\n",
      "The converted list is ['1', '2', '3', '4', '5']\n"
     ]
    }
   ],
   "source": [
    "lis = [1,2,3,4,'5']\n",
    "print(f\"The given list is {lis}\")\n",
    "lis = [str(i) if type(i) == int else i for i in lis]\n",
    "print(f\"The converted list is {lis}\")"
   ]
  },
  {
   "cell_type": "code",
   "execution_count": 21,
   "id": "13637c70-1a05-4137-96c4-ebb632d83e42",
   "metadata": {
    "tags": []
   },
   "outputs": [
    {
     "name": "stdout",
     "output_type": "stream",
     "text": [
      "The nested list is [[1], [2, 3], [4, 5, 6]]\n",
      "The flatted lis is [1, 2, 3, 4, 5, 6]\n"
     ]
    }
   ],
   "source": [
    "lis = [[1],[2,3],[4,5,6]]\n",
    "print(f\"The nested list is {lis}\")\n",
    "lis = [i for j in lis for i in j]\n",
    "print(f\"The flatted lis is {lis}\")"
   ]
  },
  {
   "cell_type": "code",
   "execution_count": 37,
   "id": "3dee30c2-6ab2-462e-a0dc-f845df72014b",
   "metadata": {
    "tags": []
   },
   "outputs": [
    {
     "name": "stdout",
     "output_type": "stream",
     "text": [
      "The Fibonacci series list is [0, 1, 1, 2, 3, 5, 8]\n"
     ]
    }
   ],
   "source": [
    "lis = [0, 1]\n",
    "[lis.append(lis[-1] + lis[-2]) for _ in range(100) if lis[-1] + lis[-2] <= 10]\n",
    "print(f\"The Fibonacci series list is {lis}\")"
   ]
  },
  {
   "cell_type": "code",
   "execution_count": 39,
   "id": "a09e2ab8-16a0-4bde-bfa9-58c33288ce09",
   "metadata": {
    "tags": []
   },
   "outputs": [
    {
     "name": "stdout",
     "output_type": "stream",
     "text": [
      "The list is not sorted\n"
     ]
    }
   ],
   "source": [
    "lis = [1,5,2,7,3,4,6]\n",
    "if lis is sorted:\n",
    "    print(\"The list is sorted\")\n",
    "else:\n",
    "    print(\"The list is not sorted\")"
   ]
  },
  {
   "cell_type": "code",
   "execution_count": 61,
   "id": "173cf5ad-0a21-4d29-86fb-d21d26828d9d",
   "metadata": {
    "tags": []
   },
   "outputs": [
    {
     "name": "stdout",
     "output_type": "stream",
     "text": [
      "Brfore rotating list [1, 2, 3, 4, 5, 6]\n"
     ]
    },
    {
     "name": "stdout",
     "output_type": "stream",
     "text": [
      "Enter the position from where you want to rotate: 2\n"
     ]
    },
    {
     "name": "stdout",
     "output_type": "stream",
     "text": [
      "The list after rotating from 2 is now [3, 4, 5, 6, 1, 2]\n"
     ]
    }
   ],
   "source": [
    "lis = [1,2,3,4,5,6]\n",
    "print(f\"Brfore rotating list {lis}\")\n",
    "n = eval(input(\"Enter the position from where you want to rotate:\"))\n",
    "n = n % len(lis)\n",
    "lis = lis[n:] + lis[:n]\n",
    "print(f\"The list after rotating from {n} is now {lis}\")"
   ]
  },
  {
   "cell_type": "code",
   "execution_count": 1,
   "id": "6968bc99-dd9e-4d2f-8e9c-9594e0bf7697",
   "metadata": {
    "tags": []
   },
   "outputs": [
    {
     "name": "stdout",
     "output_type": "stream",
     "text": [
      "Brfore rotating list [1, 2, 3, 4, 5]\n",
      "The list after rotating from 2 is now [4, 5, 1, 2, 3]\n"
     ]
    }
   ],
   "source": [
    "lis = [1,2,3,4,5]\n",
    "print(f\"Brfore rotating list {lis}\")\n",
    "n = eval(input(\"Enter the position from where you want to rotate:\"))\n",
    "n = n % len(lis)\n",
    "lis = lis[-n:] + lis[:-n]\n",
    "print(f\"The list after rotating from {n} is now {lis}\")"
   ]
  },
  {
   "cell_type": "code",
   "execution_count": 11,
   "metadata": {},
   "outputs": [
    {
     "name": "stdout",
     "output_type": "stream",
     "text": [
      "[1, 2, 3, 5, 7, 11, 13, 17, 19, 23, 29, 31, 37, 41, 43, 47]\n"
     ]
    }
   ],
   "source": [
    "lis = [i for i in range(1,50) if all(i % j != 0 for j in range(2, i // 2 + 1))]\n",
    "print(lis)"
   ]
  },
  {
   "cell_type": "code",
   "execution_count": 17,
   "metadata": {},
   "outputs": [
    {
     "name": "stdout",
     "output_type": "stream",
     "text": [
      "[1, 2, 3, 4, 4, 6, 7, 8]\n",
      "The second largest number in the list is: 7\n"
     ]
    }
   ],
   "source": [
    "lis = [1,4,2,6,4,3,7,8]\n",
    "lis.sort()\n",
    "print(f\"The second largest number in the list is: {lis[len(lis)-2]}\")"
   ]
  },
  {
   "cell_type": "code",
   "execution_count": 21,
   "metadata": {},
   "outputs": [
    {
     "name": "stdout",
     "output_type": "stream",
     "text": [
      "The square of all elements of list: [1, 4, 9, 16, 25, 36]\n"
     ]
    }
   ],
   "source": [
    "lis = [1,2,3,4,5,6]\n",
    "lis = [pow(i,2) for i in lis]\n",
    "print(f\"The square of all elements of list: {lis}\")"
   ]
  },
  {
   "cell_type": "code",
   "execution_count": 23,
   "metadata": {},
   "outputs": [
    {
     "name": "stdout",
     "output_type": "stream",
     "text": [
      "{'apple': 1, 'banana': 2, 'chocolate': 3, 'ice-cream': 4}\n"
     ]
    }
   ],
   "source": [
    "lis = ['apple','banana','chocolate','ice-cream']\n",
    "lis = {lis[i] : i + 1 for i in range(len(lis))}\n",
    "print(lis)"
   ]
  },
  {
   "cell_type": "code",
   "execution_count": 30,
   "metadata": {},
   "outputs": [
    {
     "name": "stdout",
     "output_type": "stream",
     "text": [
      "The shuffled list is: [3, 7, 2, 1, 4, 6, 5]\n"
     ]
    }
   ],
   "source": [
    "import random\n",
    "\n",
    "lis = [1,2,3,4,5,6,7]\n",
    "random.shuffle(lis)\n",
    "print(f\"The shuffled list is: {lis}\")"
   ]
  },
  {
   "cell_type": "code",
   "execution_count": 3,
   "metadata": {},
   "outputs": [
    {
     "name": "stdout",
     "output_type": "stream",
     "text": [
      "The factorial list is: [1, 2, 6, 24, 120, 720, 5040, 40320, 362880, 3628800]\n"
     ]
    }
   ],
   "source": [
    "import math\n",
    "lis = [math.factorial(i) for i in range(1,11)]\n",
    "print(f\"The factorial list is: {l}\")"
   ]
  },
  {
   "cell_type": "code",
   "execution_count": 5,
   "metadata": {},
   "outputs": [
    {
     "name": "stdout",
     "output_type": "stream",
     "text": [
      "The common elements from two list are: [4]\n"
     ]
    }
   ],
   "source": [
    "lis = []\n",
    "lis1 = [12,3,4,5]\n",
    "lis2 = [1,6,11,2,8,4]\n",
    "for i in lis1:\n",
    "    if i in lis2:\n",
    "        lis.append(i)\n",
    "print(f\"The common elements from two list are: {lis}\")"
   ]
  },
  {
   "cell_type": "code",
   "execution_count": 9,
   "metadata": {},
   "outputs": [
    {
     "name": "stdout",
     "output_type": "stream",
     "text": [
      "[]\n"
     ]
    }
   ],
   "source": [
    "lis = [1,2,3,4,5,6,7,8,9]\n",
    "lis.clear()\n",
    "print(lis)"
   ]
  },
  {
   "cell_type": "code",
   "execution_count": 23,
   "metadata": {},
   "outputs": [
    {
     "name": "stdout",
     "output_type": "stream",
     "text": [
      "The updated list is: [1, 2, 3, 0, 0]\n"
     ]
    }
   ],
   "source": [
    "lis = [1,2,3,-4,-5]\n",
    "lis = [i if i > 0 else 0 for i in lis]\n",
    "print(f\"The updated list is: {lis}\")"
   ]
  },
  {
   "cell_type": "code",
   "execution_count": 21,
   "metadata": {},
   "outputs": [
    {
     "name": "stdout",
     "output_type": "stream",
     "text": [
      "['i', 'am', 'anit']\n"
     ]
    }
   ],
   "source": [
    "string = str(input(\"Enter the string:\"))\n",
    "lis = string.split()\n",
    "print(lis)"
   ]
  },
  {
   "cell_type": "code",
   "execution_count": 33,
   "metadata": {},
   "outputs": [
    {
     "name": "stdout",
     "output_type": "stream",
     "text": [
      "The output is: i am anit\n",
      "The output is: i am anit \n"
     ]
    }
   ],
   "source": [
    "lis = ['i','am','anit']\n",
    "string = ' '.join(lis)\n",
    "print(f\"The output is: {string}\")\n",
    "\n",
    "string = ''\n",
    "for i in lis:\n",
    "    string = string + i + ' '\n",
    "print(f\"The output is: {string}\")"
   ]
  },
  {
   "cell_type": "code",
   "execution_count": 49,
   "metadata": {},
   "outputs": [
    {
     "name": "stdout",
     "output_type": "stream",
     "text": [
      "[1, 2, 4, 8, 16, 32, 64, 128, 256, 512, 1024]\n"
     ]
    }
   ],
   "source": [
    "n = eval(input(\"Enter how many terms you want: \"))\n",
    "lis = [pow(2,i) for i in range(n+1)]\n",
    "print(lis)"
   ]
  },
  {
   "cell_type": "code",
   "execution_count": 53,
   "metadata": {},
   "outputs": [
    {
     "name": "stdout",
     "output_type": "stream",
     "text": [
      "The longest string is: halder\n"
     ]
    }
   ],
   "source": [
    "lis = ['i','am','anit','halder']\n",
    "length = [len(i) for i in lis]\n",
    "i = length.index(max(length))\n",
    "print(f\"The longest string is: {lis[i]}\")"
   ]
  },
  {
   "cell_type": "code",
   "execution_count": 54,
   "metadata": {},
   "outputs": [
    {
     "name": "stdout",
     "output_type": "stream",
     "text": [
      "The longest string is: i\n"
     ]
    }
   ],
   "source": [
    "lis = ['i','am','anit','halder']\n",
    "length = [len(i) for i in lis]\n",
    "i = length.index(min(length))\n",
    "print(f\"The longest string is: {lis[i]}\")"
   ]
  },
  {
   "cell_type": "code",
   "execution_count": 55,
   "metadata": {},
   "outputs": [
    {
     "name": "stdout",
     "output_type": "stream",
     "text": [
      "This list contain 2 sublist\n"
     ]
    }
   ],
   "source": [
    "lis = [[1],[2,3],4,5]\n",
    "count = 0\n",
    "for i in lis:\n",
    "    if type(i) is list:\n",
    "        count += 1\n",
    "print(f\"This list contain {count} sublist\")"
   ]
  }
 ],
 "metadata": {
  "kernelspec": {
   "display_name": "Python 3 (ipykernel)",
   "language": "python",
   "name": "python3"
  },
  "language_info": {
   "codemirror_mode": {
    "name": "ipython",
    "version": 3
   },
   "file_extension": ".py",
   "mimetype": "text/x-python",
   "name": "python",
   "nbconvert_exporter": "python",
   "pygments_lexer": "ipython3",
   "version": "3.11.5"
  }
 },
 "nbformat": 4,
 "nbformat_minor": 5
}

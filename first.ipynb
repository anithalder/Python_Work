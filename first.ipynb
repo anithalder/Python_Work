{
 "cells": [
  {
   "cell_type": "code",
   "execution_count": 1,
   "id": "ba6203be",
   "metadata": {},
   "outputs": [
    {
     "name": "stdout",
     "output_type": "stream",
     "text": [
      "Hello World\n",
      "5\n"
     ]
    }
   ],
   "source": [
    "print(\"Hello World\")\n",
    "print(2+3)"
   ]
  },
  {
   "cell_type": "code",
   "execution_count": 12,
   "id": "ed8343f6",
   "metadata": {},
   "outputs": [
    {
     "name": "stdout",
     "output_type": "stream",
     "text": [
      "40.1\n"
     ]
    },
    {
     "data": {
      "text/plain": [
       "bool"
      ]
     },
     "execution_count": 12,
     "metadata": {},
     "output_type": "execute_result"
    }
   ],
   "source": [
    "a,b,c,d=10,30.1,\"Hello\",True\n",
    "\n",
    "print(a+b)\n",
    "\n",
    "type(d)"
   ]
  },
  {
   "cell_type": "code",
   "execution_count": 11,
   "id": "d13a6cbe",
   "metadata": {},
   "outputs": [
    {
     "name": "stdout",
     "output_type": "stream",
     "text": [
      "Enter the 1st num: 3\n",
      "Enter the 2nd num: 2\n",
      "The output is: 5\n"
     ]
    }
   ],
   "source": [
    "a=int(input(\"Enter the 1st num: \"))\n",
    "b=int(input(\"Enter the 2nd num: \"))\n",
    "c=a+b\n",
    "print(\"The output is:\" , c)"
   ]
  },
  {
   "cell_type": "code",
   "execution_count": 13,
   "id": "04e32cd0",
   "metadata": {},
   "outputs": [
    {
     "name": "stdout",
     "output_type": "stream",
     "text": [
      "Enter the 1st num: 3\n",
      "Enter the 2nd num: 2\n",
      "The 1st num: 2\n",
      "The 1st num: 3\n"
     ]
    }
   ],
   "source": [
    "a=int(input(\"Enter the 1st num: \"))\n",
    "b=int(input(\"Enter the 2nd num: \"))\n",
    "c=a\n",
    "a=b\n",
    "b=c\n",
    "print(\"The 1st num:\" ,a)\n",
    "print(\"The 2nd num:\" ,b)"
   ]
  },
  {
   "cell_type": "code",
   "execution_count": 14,
   "id": "1cbedb5c",
   "metadata": {},
   "outputs": [
    {
     "name": "stdout",
     "output_type": "stream",
     "text": [
      "Enter the 1st num: 3\n",
      "Enter the 2nd num: 2\n",
      "The 1st num: 2\n",
      "The 2nd num: 3\n"
     ]
    }
   ],
   "source": [
    "x=int(input(\"Enter the 1st num: \"))\n",
    "y=int(input(\"Enter the 2nd num: \"))\n",
    "x = x + y\n",
    "y= x - y\n",
    "x =x - y\n",
    "print(\"The 1st num:\" ,x)\n",
    "print(\"The 2nd num:\" ,y)"
   ]
  },
  {
   "cell_type": "code",
   "execution_count": 15,
   "id": "4bba6a91",
   "metadata": {},
   "outputs": [
    {
     "data": {
      "text/plain": [
       "complex"
      ]
     },
     "execution_count": 15,
     "metadata": {},
     "output_type": "execute_result"
    }
   ],
   "source": [
    "a=2+4j\n",
    "type(a)"
   ]
  },
  {
   "cell_type": "code",
   "execution_count": 17,
   "id": "3a8418fd",
   "metadata": {},
   "outputs": [
    {
     "name": "stdout",
     "output_type": "stream",
     "text": [
      "AnitHalder\n"
     ]
    }
   ],
   "source": [
    "a=\"Anit\"\n",
    "b=\"Halder\"\n",
    "print(\"Anit\"+ b)"
   ]
  },
  {
   "cell_type": "code",
   "execution_count": 19,
   "id": "bc676f69",
   "metadata": {},
   "outputs": [
    {
     "name": "stdout",
     "output_type": "stream",
     "text": [
      "Anit\n",
      "    Halder\n",
      "    Student\n"
     ]
    }
   ],
   "source": [
    "a=\"\"\"Anit\n",
    "    Halder\n",
    "    Student\"\"\"\n",
    "print(a)"
   ]
  },
  {
   "cell_type": "code",
   "execution_count": 29,
   "id": "044bbf55",
   "metadata": {},
   "outputs": [
    {
     "name": "stdout",
     "output_type": "stream",
     "text": [
      "[10, 20]\n"
     ]
    },
    {
     "data": {
      "text/plain": [
       "list"
      ]
     },
     "execution_count": 29,
     "metadata": {},
     "output_type": "execute_result"
    }
   ],
   "source": [
    "l=[1,2,3,4.7,\"Anit\",[10,20]]\n",
    "\n",
    "print(list[5])\n",
    "type(l)"
   ]
  },
  {
   "cell_type": "code",
   "execution_count": 31,
   "id": "0e9d28b4",
   "metadata": {},
   "outputs": [
    {
     "name": "stdout",
     "output_type": "stream",
     "text": [
      "{1, 2, 3, 5, 6}\n"
     ]
    },
    {
     "data": {
      "text/plain": [
       "set"
      ]
     },
     "execution_count": 31,
     "metadata": {},
     "output_type": "execute_result"
    }
   ],
   "source": [
    "l={1,2,5,1,6,3,2,5,6}\n",
    "\n",
    "print(l)\n",
    "type(l)"
   ]
  },
  {
   "cell_type": "code",
   "execution_count": 33,
   "id": "d2884665",
   "metadata": {},
   "outputs": [
    {
     "name": "stdout",
     "output_type": "stream",
     "text": [
      "Arpan\n"
     ]
    }
   ],
   "source": [
    "data={1:\"Anit\",2:\"Arpan\",3:\"Ajoy\"}\n",
    "print(data[2])"
   ]
  },
  {
   "cell_type": "code",
   "execution_count": 35,
   "id": "24337ae5",
   "metadata": {},
   "outputs": [
    {
     "name": "stdout",
     "output_type": "stream",
     "text": [
      "8\n"
     ]
    }
   ],
   "source": [
    "a,b=2,3\n",
    "print(a**b)"
   ]
  },
  {
   "cell_type": "code",
   "execution_count": null,
   "id": "fad8648c",
   "metadata": {},
   "outputs": [],
   "source": []
  }
 ],
 "metadata": {
  "kernelspec": {
   "display_name": "Python 3 (ipykernel)",
   "language": "python",
   "name": "python3"
  },
  "language_info": {
   "codemirror_mode": {
    "name": "ipython",
    "version": 3
   },
   "file_extension": ".py",
   "mimetype": "text/x-python",
   "name": "python",
   "nbconvert_exporter": "python",
   "pygments_lexer": "ipython3",
   "version": "3.11.4"
  }
 },
 "nbformat": 4,
 "nbformat_minor": 5
}

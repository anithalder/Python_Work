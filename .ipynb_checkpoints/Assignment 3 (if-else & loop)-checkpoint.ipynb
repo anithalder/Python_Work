{
 "cells": [
  {
   "cell_type": "code",
   "execution_count": 4,
   "id": "b9293b97",
   "metadata": {},
   "outputs": [
    {
     "name": "stdout",
     "output_type": "stream",
     "text": [
      "Enter the number:0\n",
      "\n",
      "\tThis number is zero\n"
     ]
    }
   ],
   "source": [
    "# poitive,nagative or zero\n",
    "\n",
    "num = int(input(\"Enter the number:\"))\n",
    "if(num < 0):\n",
    "    print(\"\\n\\tThis number nagative\")\n",
    "elif(num == 0):\n",
    "    print(\"\\n\\tThis number is zero\")\n",
    "else:\n",
    "    print(\"\\n\\tThis number is positive\")"
   ]
  },
  {
   "cell_type": "code",
   "execution_count": 6,
   "id": "9761f2c4",
   "metadata": {},
   "outputs": [
    {
     "name": "stdout",
     "output_type": "stream",
     "text": [
      "Enter your date of birth:2003\n"
     ]
    },
    {
     "ename": "NameError",
     "evalue": "name 'date' is not defined",
     "output_type": "error",
     "traceback": [
      "\u001b[1;31m---------------------------------------------------------------------------\u001b[0m",
      "\u001b[1;31mNameError\u001b[0m                                 Traceback (most recent call last)",
      "Cell \u001b[1;32mIn[6], line 4\u001b[0m\n\u001b[0;32m      1\u001b[0m \u001b[38;5;66;03m# voter eligibility\u001b[39;00m\n\u001b[0;32m      3\u001b[0m year \u001b[38;5;241m=\u001b[39m \u001b[38;5;28mint\u001b[39m(\u001b[38;5;28minput\u001b[39m(\u001b[38;5;124m\"\u001b[39m\u001b[38;5;124mEnter your date of birth:\u001b[39m\u001b[38;5;124m\"\u001b[39m))\n\u001b[1;32m----> 4\u001b[0m today \u001b[38;5;241m=\u001b[39m date\u001b[38;5;241m.\u001b[39mtoday()\n\u001b[0;32m      5\u001b[0m age \u001b[38;5;241m=\u001b[39m today\u001b[38;5;241m.\u001b[39myear \u001b[38;5;241m-\u001b[39m year\n\u001b[0;32m      7\u001b[0m \u001b[38;5;28;01mif\u001b[39;00m(age\u001b[38;5;241m>\u001b[39m\u001b[38;5;241m=\u001b[39m\u001b[38;5;241m18\u001b[39m):\n",
      "\u001b[1;31mNameError\u001b[0m: name 'date' is not defined"
     ]
    }
   ],
   "source": [
    "# voter eligibility\n",
    "\n",
    "from datetime import date\n",
    "year = int(input(\"Enter your date of birth:\"))\n",
    "today = date.today()\n",
    "age = today.year - year\n",
    "\n",
    "if(age>=18):\n",
    "    print(\"Congratulation!You are eligible🥳🥳\")\n",
    "else:\n",
    "    print(f\"Sorry!😔😔 You are eligible after {18 - age} year\")"
   ]
  },
  {
   "cell_type": "code",
   "execution_count": null,
   "id": "df9b63d7",
   "metadata": {},
   "outputs": [],
   "source": []
  }
 ],
 "metadata": {
  "kernelspec": {
   "display_name": "Python 3 (ipykernel)",
   "language": "python",
   "name": "python3"
  },
  "language_info": {
   "codemirror_mode": {
    "name": "ipython",
    "version": 3
   },
   "file_extension": ".py",
   "mimetype": "text/x-python",
   "name": "python",
   "nbconvert_exporter": "python",
   "pygments_lexer": "ipython3",
   "version": "3.11.4"
  }
 },
 "nbformat": 4,
 "nbformat_minor": 5
}

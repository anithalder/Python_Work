{
 "cells": [
  {
   "cell_type": "code",
   "execution_count": 4,
   "id": "70da005b",
   "metadata": {},
   "outputs": [
    {
     "name": "stdout",
     "output_type": "stream",
     "text": [
      "Enter the number:0\n",
      "\n",
      "\tThis number is zero\n"
     ]
    }
   ],
   "source": [
    "# poitive,nagative or zero\n",
    "\n",
    "num = int(input(\"Enter the number:\"))\n",
    "if(num < 0):\n",
    "    print(\"\\n\\tThis number nagative\")\n",
    "elif(num == 0):\n",
    "    print(\"\\n\\tThis number is zero\")\n",
    "else:\n",
    "    print(\"\\n\\tThis number is positive\")"
   ]
  },
  {
   "cell_type": "code",
   "execution_count": 8,
   "id": "0f01c623",
   "metadata": {},
   "outputs": [
    {
     "name": "stdout",
     "output_type": "stream",
     "text": [
      "Enter your date of birth:2009\n",
      "Sorry!😔😔 You are eligible after 4 year\n"
     ]
    }
   ],
   "source": [
    "# voter eligibility\n",
    "\n",
    "from datetime import date\n",
    "year = int(input(\"Enter your date of birth:\"))\n",
    "today = date.today()\n",
    "age = today.year - year\n",
    "\n",
    "if(age>=18):\n",
    "    print(\"Congratulation!You are eligible🥳🥳\")\n",
    "else:\n",
    "    print(f\"Sorry!😔😔 You are eligible after {18 - age} year\")"
   ]
  },
  {
   "cell_type": "code",
   "execution_count": 1,
   "id": "63052021",
   "metadata": {},
   "outputs": [
    {
     "name": "stdout",
     "output_type": "stream",
     "text": [
      "Enter the 1st number:3\n",
      "Enter the 2nd number:5\n",
      "\n",
      "\t5 is greater\n"
     ]
    }
   ],
   "source": [
    "# greater two number\n",
    "\n",
    "num1 = int(input(\"Enter the 1st number:\"))\n",
    "num2 = int(input(\"Enter the 2nd number:\"))\n",
    "if(num1 > num2):\n",
    "    print(f\"\\n\\t{num1} is greater\")\n",
    "else:\n",
    "    print(f\"\\n\\t{num2} is greater\")"
   ]
  },
  {
   "cell_type": "code",
   "execution_count": 3,
   "id": "55de83ca",
   "metadata": {},
   "outputs": [
    {
     "name": "stdout",
     "output_type": "stream",
     "text": [
      "Enter the year:2012\n",
      "\n",
      "\tThe year is leapyear\n"
     ]
    }
   ],
   "source": [
    "# lepayear or not\n",
    "\n",
    "year = int(input(\"Enter the year:\"))\n",
    "if(year % 400 == 0 and year % 4 == 0 or (year % 100 != 0)):\n",
    "    print(\"\\n\\tThe year is leapyear\")\n",
    "else:\n",
    "    print(\"\\n\\tThe year is not leapyear\")"
   ]
  },
  {
   "cell_type": "code",
   "execution_count": 7,
   "id": "e11ba32f",
   "metadata": {},
   "outputs": [
    {
     "name": "stdout",
     "output_type": "stream",
     "text": [
      "Enter 1st side of triangle:12\n",
      "Enter 2nd side of triangle:13\n",
      "Enter 3rd side of triangle:14\n",
      "\n",
      "\tThis is a scalene triangle\n"
     ]
    }
   ],
   "source": [
    "# triangle detection\n",
    "\n",
    "s1 = int(input(\"Enter 1st side of triangle:\"))\n",
    "s2 = int(input(\"Enter 2nd side of triangle:\"))\n",
    "s3 = int(input(\"Enter 3rd side of triangle:\"))\n",
    "if(s1 == s2 and s2 == s3):\n",
    "    print(\"\\n\\tThis is a equilateral triangle\")\n",
    "elif(s1 == s2 or s2 == s3 or s1 == s3):\n",
    "    print(\"\\n\\tThis is a bilateral triangle\")\n",
    "elif(s1 != s2 != s3):\n",
    "    print(\"\\n\\tThis is a scalene triangle\")"
   ]
  },
  {
   "cell_type": "code",
   "execution_count": 8,
   "id": "ec3eb0db",
   "metadata": {},
   "outputs": [
    {
     "name": "stdout",
     "output_type": "stream",
     "text": [
      "Enter the 1st number:1\n",
      "Enter the 2nd number:2\n",
      "Enter the 3rd number:3\n",
      "\n",
      "\t3 is largest\n"
     ]
    }
   ],
   "source": [
    "# largest between three number\n",
    "\n",
    "num1 = int(input(\"Enter the 1st number:\"))\n",
    "num2 = int(input(\"Enter the 2nd number:\"))\n",
    "num3 = int(input(\"Enter the 3rd number:\"))\n",
    "if(num1 > num2):\n",
    "    if(num1 > num3):\n",
    "        print(f\"\\n\\t{num1} is largest\")\n",
    "    else:\n",
    "        print(f\"\\n\\t{num3} is largest\")\n",
    "else:\n",
    "    if(num2 > num3):\n",
    "        print(f\"\\n\\t{num2} is largest\")\n",
    "    else:\n",
    "        print(f\"\\n\\t{num3} is largest\")"
   ]
  },
  {
   "cell_type": "code",
   "execution_count": 11,
   "id": "7fe2f45a",
   "metadata": {},
   "outputs": [
    {
     "name": "stdout",
     "output_type": "stream",
     "text": [
      "Ener the charecter:b\n",
      "\n",
      "\tThis 'b' is consonant\n"
     ]
    }
   ],
   "source": [
    "# vowel or consonant\n",
    "\n",
    "vowel = ['a','e','i','o','u','A','E','I','O','U']\n",
    "char = input(\"Ener the charecter:\")\n",
    "if char in vowel:\n",
    "    print(f\"\\n\\tThis '{char}' is vowel\")\n",
    "else:\n",
    "    print(f\"\\n\\tThis '{char}' is consonant\")"
   ]
  },
  {
   "cell_type": "raw",
   "id": "7297479b",
   "metadata": {},
   "source": []
  },
  {
   "cell_type": "code",
   "execution_count": 13,
   "id": "0f76d667",
   "metadata": {},
   "outputs": [
    {
     "name": "stdout",
     "output_type": "stream",
     "text": [
      "Enter the number:667\n",
      "\n",
      "\tThe number is odd\n"
     ]
    }
   ],
   "source": [
    "# even odd\n",
    "\n",
    "num = int(input(\"Enter the number:\"))\n",
    "if(num % 2 == 0):\n",
    "    print(\"\\n\\tThe number is even\")\n",
    "else:\n",
    "    print(\"\\n\\tThe number is odd\")"
   ]
  },
  {
   "cell_type": "code",
   "execution_count": null,
   "id": "80748f36",
   "metadata": {},
   "outputs": [],
   "source": []
  }
 ],
 "metadata": {
  "kernelspec": {
   "display_name": "Python 3 (ipykernel)",
   "language": "python",
   "name": "python3"
  },
  "language_info": {
   "codemirror_mode": {
    "name": "ipython",
    "version": 3
   },
   "file_extension": ".py",
   "mimetype": "text/x-python",
   "name": "python",
   "nbconvert_exporter": "python",
   "pygments_lexer": "ipython3",
   "version": "3.11.4"
  }
 },
 "nbformat": 4,
 "nbformat_minor": 5
}

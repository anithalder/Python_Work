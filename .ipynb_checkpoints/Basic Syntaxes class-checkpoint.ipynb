{
 "cells": [
  {
   "cell_type": "code",
   "execution_count": 1,
   "id": "ba6203be",
   "metadata": {},
   "outputs": [
    {
     "name": "stdout",
     "output_type": "stream",
     "text": [
      "Hello World\n",
      "5\n"
     ]
    }
   ],
   "source": [
    "print(\"Hello World\")\n",
    "print(2+3)"
   ]
  },
  {
   "cell_type": "code",
   "execution_count": 12,
   "id": "ed8343f6",
   "metadata": {},
   "outputs": [
    {
     "name": "stdout",
     "output_type": "stream",
     "text": [
      "40.1\n"
     ]
    },
    {
     "data": {
      "text/plain": [
       "bool"
      ]
     },
     "execution_count": 12,
     "metadata": {},
     "output_type": "execute_result"
    }
   ],
   "source": [
    "a,b,c,d=10,30.1,\"Hello\",True\n",
    "\n",
    "print(a+b)\n",
    "\n",
    "type(d)"
   ]
  },
  {
   "cell_type": "code",
   "execution_count": 11,
   "id": "d13a6cbe",
   "metadata": {},
   "outputs": [
    {
     "name": "stdout",
     "output_type": "stream",
     "text": [
      "Enter the 1st num: 3\n",
      "Enter the 2nd num: 2\n",
      "The output is: 5\n"
     ]
    }
   ],
   "source": [
    "a=int(input(\"Enter the 1st num: \"))\n",
    "b=int(input(\"Enter the 2nd num: \"))\n",
    "c=a+b\n",
    "print(\"The output is:\" , c)"
   ]
  },
  {
   "cell_type": "code",
   "execution_count": 13,
   "id": "04e32cd0",
   "metadata": {},
   "outputs": [
    {
     "name": "stdout",
     "output_type": "stream",
     "text": [
      "Enter the 1st num: 3\n",
      "Enter the 2nd num: 2\n",
      "The 1st num: 2\n",
      "The 1st num: 3\n"
     ]
    }
   ],
   "source": [
    "a=int(input(\"Enter the 1st num: \"))\n",
    "b=int(input(\"Enter the 2nd num: \"))\n",
    "c=a\n",
    "a=b\n",
    "b=c\n",
    "print(\"The 1st num:\" ,a)\n",
    "print(\"The 2nd num:\" ,b)"
   ]
  },
  {
   "cell_type": "code",
   "execution_count": 14,
   "id": "1cbedb5c",
   "metadata": {},
   "outputs": [
    {
     "name": "stdout",
     "output_type": "stream",
     "text": [
      "Enter the 1st num: 3\n",
      "Enter the 2nd num: 2\n",
      "The 1st num: 2\n",
      "The 2nd num: 3\n"
     ]
    }
   ],
   "source": [
    "x=int(input(\"Enter the 1st num: \"))\n",
    "y=int(input(\"Enter the 2nd num: \"))\n",
    "x = x + y\n",
    "y= x - y\n",
    "x =x - y\n",
    "print(\"The 1st num:\" ,x)\n",
    "print(\"The 2nd num:\" ,y)"
   ]
  },
  {
   "cell_type": "code",
   "execution_count": 15,
   "id": "4bba6a91",
   "metadata": {},
   "outputs": [
    {
     "data": {
      "text/plain": [
       "complex"
      ]
     },
     "execution_count": 15,
     "metadata": {},
     "output_type": "execute_result"
    }
   ],
   "source": [
    "a=2+4j\n",
    "type(a)"
   ]
  },
  {
   "cell_type": "code",
   "execution_count": 17,
   "id": "3a8418fd",
   "metadata": {},
   "outputs": [
    {
     "name": "stdout",
     "output_type": "stream",
     "text": [
      "AnitHalder\n"
     ]
    }
   ],
   "source": [
    "a=\"Anit\"\n",
    "b=\"Halder\"\n",
    "print(\"Anit\"+ b)"
   ]
  },
  {
   "cell_type": "code",
   "execution_count": 19,
   "id": "bc676f69",
   "metadata": {},
   "outputs": [
    {
     "name": "stdout",
     "output_type": "stream",
     "text": [
      "Anit\n",
      "    Halder\n",
      "    Student\n"
     ]
    }
   ],
   "source": [
    "a=\"\"\"Anit\n",
    "    Halder\n",
    "    Student\"\"\"\n",
    "print(a)"
   ]
  },
  {
   "cell_type": "code",
   "execution_count": 29,
   "id": "044bbf55",
   "metadata": {},
   "outputs": [
    {
     "name": "stdout",
     "output_type": "stream",
     "text": [
      "[10, 20]\n"
     ]
    },
    {
     "data": {
      "text/plain": [
       "list"
      ]
     },
     "execution_count": 29,
     "metadata": {},
     "output_type": "execute_result"
    }
   ],
   "source": [
    "l=[1,2,3,4.7,\"Anit\",[10,20]]\n",
    "\n",
    "print(list[5])\n",
    "type(l)"
   ]
  },
  {
   "cell_type": "code",
   "execution_count": 31,
   "id": "0e9d28b4",
   "metadata": {},
   "outputs": [
    {
     "name": "stdout",
     "output_type": "stream",
     "text": [
      "{1, 2, 3, 5, 6}\n"
     ]
    },
    {
     "data": {
      "text/plain": [
       "set"
      ]
     },
     "execution_count": 31,
     "metadata": {},
     "output_type": "execute_result"
    }
   ],
   "source": [
    "l={1,2,5,1,6,3,2,5,6}\n",
    "\n",
    "print(l)\n",
    "type(l)"
   ]
  },
  {
   "cell_type": "code",
   "execution_count": 33,
   "id": "d2884665",
   "metadata": {},
   "outputs": [
    {
     "name": "stdout",
     "output_type": "stream",
     "text": [
      "Arpan\n"
     ]
    }
   ],
   "source": [
    "data={1:\"Anit\",2:\"Arpan\",3:\"Ajoy\"}\n",
    "print(data[2])"
   ]
  },
  {
   "cell_type": "code",
   "execution_count": 35,
   "id": "24337ae5",
   "metadata": {},
   "outputs": [
    {
     "name": "stdout",
     "output_type": "stream",
     "text": [
      "8\n"
     ]
    }
   ],
   "source": [
    "a,b=2,3\n",
    "print(a**b)"
   ]
  },
  {
   "cell_type": "code",
   "execution_count": 4,
   "id": "fad8648c",
   "metadata": {},
   "outputs": [
    {
     "name": "stdout",
     "output_type": "stream",
     "text": [
      "Hello World\n",
      "Hello World\n",
      "Hello World\n",
      "Hello World\n",
      "Hello World\n",
      "\n"
     ]
    }
   ],
   "source": [
    "print(\"Hello World\\n\" * 5)"
   ]
  },
  {
   "cell_type": "code",
   "execution_count": 6,
   "id": "fbb6d5ab",
   "metadata": {},
   "outputs": [
    {
     "name": "stdout",
     "output_type": "stream",
     "text": [
      "[10, 20, 'Anit', 30]\n",
      "Anit\n",
      "30\n"
     ]
    }
   ],
   "source": [
    "A = [10,20,'Anit',30]\n",
    "print(A)\n",
    "print(A[2])\n",
    "print(A[-1])"
   ]
  },
  {
   "cell_type": "code",
   "execution_count": 7,
   "id": "5f5e7878",
   "metadata": {},
   "outputs": [
    {
     "name": "stdout",
     "output_type": "stream",
     "text": [
      "Enter list:1,2,3,4\n",
      "(1, 2, 3, 4)\n"
     ]
    }
   ],
   "source": [
    "lt = eval(input(\"Enter list:\"))\n",
    "print(lt)"
   ]
  },
  {
   "cell_type": "code",
   "execution_count": 17,
   "id": "bc99be7a",
   "metadata": {},
   "outputs": [
    {
     "name": "stdout",
     "output_type": "stream",
     "text": [
      "Enter the 1st number:20\n",
      "Enter the 2nd number:15\n",
      "\n",
      "\t20 is larger than 15\n"
     ]
    }
   ],
   "source": [
    "a = int(input(\"Enter the 1st number:\"))\n",
    "b = int(input(\"Enter the 2nd number:\"))\n",
    "if (a>b):\n",
    "    print(f\"\\n\\t{a} is larger than {b}\")\n",
    "else:\n",
    "    print(f\"\\n\\t{b} is larger than {a}\")"
   ]
  },
  {
   "cell_type": "code",
   "execution_count": 19,
   "id": "30cc7fd1",
   "metadata": {},
   "outputs": [
    {
     "name": "stdout",
     "output_type": "stream",
     "text": [
      "Enter the 1st number:20\n",
      "Enter the 2nd number:35\n",
      "Enter the 3rd number:10\n",
      "\n",
      "\t35 is larger than 20&10\n"
     ]
    }
   ],
   "source": [
    "a = int(input(\"Enter the 1st number:\"))\n",
    "b = int(input(\"Enter the 2nd number:\"))\n",
    "c = int(input(\"Enter the 3rd number:\"))\n",
    "if (a>b and a>c):\n",
    "    print(f\"\\n\\t{a} is larger than {b} & {c}\")\n",
    "elif(b>c):\n",
    "    print(f\"\\n\\t{b} is larger than {a} & {c}\")\n",
    "else:\n",
    "    print(f\"\\n\\t{c} is larger than {a} & {b}\")"
   ]
  },
  {
   "cell_type": "code",
   "execution_count": 26,
   "id": "91f2d2db",
   "metadata": {},
   "outputs": [
    {
     "name": "stdout",
     "output_type": "stream",
     "text": [
      "Enter the year:1700\n",
      "not leap year\n"
     ]
    }
   ],
   "source": [
    "year = int(input(\"Enter the year:\"))\n",
    "if(year%400 == 0 or (year%4 == 0 and year%100 != 0)):\n",
    "    print(\"leap year\")\n",
    "else:\n",
    "    print(\"not leap year\")"
   ]
  },
  {
   "cell_type": "code",
   "execution_count": 24,
   "id": "54c4f392",
   "metadata": {},
   "outputs": [
    {
     "name": "stdout",
     "output_type": "stream",
     "text": [
      "Enter the number:4\n",
      "This is even number\n"
     ]
    }
   ],
   "source": [
    "a = int(input(\"Enter the number:\"))\n",
    "if(a%2 == 0):\n",
    "    print(\"This is even number\")\n",
    "else:\n",
    "    print(\"This is odd number\")"
   ]
  },
  {
   "cell_type": "code",
   "execution_count": 27,
   "id": "6448d908",
   "metadata": {},
   "outputs": [
    {
     "name": "stdout",
     "output_type": "stream",
     "text": [
      "enter age:12\n",
      "not eligible\n"
     ]
    }
   ],
   "source": [
    "age = int(input(\"enter age:\"))\n",
    "if(age>=18):\n",
    "    print(\"Eligible\")\n",
    "else:\n",
    "    print(\"not eligible\")"
   ]
  },
  {
   "cell_type": "code",
   "execution_count": 31,
   "id": "94967fa4",
   "metadata": {},
   "outputs": [
    {
     "name": "stdout",
     "output_type": "stream",
     "text": [
      "10\n",
      "20\n",
      "30\n",
      "40\n"
     ]
    }
   ],
   "source": [
    "list = [10,20,30,40]\n",
    "for i in list:\n",
    "    print(i)"
   ]
  },
  {
   "cell_type": "code",
   "execution_count": 4,
   "id": "ed1edafe",
   "metadata": {},
   "outputs": [
    {
     "name": "stdout",
     "output_type": "stream",
     "text": [
      "Enter the number:5\n",
      "The output is: 120\n"
     ]
    }
   ],
   "source": [
    "n = int(input(\"Enter the number:\"))\n",
    "i=1\n",
    "f=1\n",
    "for i in range(n,1,-1):\n",
    "    f = f*i\n",
    "print(\"The output is:\",f)"
   ]
  },
  {
   "cell_type": "code",
   "execution_count": 47,
   "id": "2df187be",
   "metadata": {},
   "outputs": [
    {
     "name": "stdout",
     "output_type": "stream",
     "text": [
      "Enter the number of lines:5\n",
      "*\n",
      "***\n",
      "*****\n",
      "*******\n",
      "*********\n"
     ]
    }
   ],
   "source": [
    "n = int(input(\"Enter the number of lines:\"))\n",
    "for j in range(n):\n",
    "    for i in range(2*j+1):\n",
    "        print(\"*\",end=\"\")\n",
    "    print()"
   ]
  },
  {
   "cell_type": "code",
   "execution_count": 3,
   "id": "65411d93",
   "metadata": {},
   "outputs": [
    {
     "name": "stdout",
     "output_type": "stream",
     "text": [
      "Enter the num:12345\n",
      "5\n"
     ]
    }
   ],
   "source": [
    "n=int(input(\"Enter the num:\"))\n",
    "count = 0\n",
    "while(n>0):\n",
    "    count+=1\n",
    "    n=n//10\n",
    "print(count)"
   ]
  },
  {
   "cell_type": "code",
   "execution_count": 1,
   "id": "9fbbf263",
   "metadata": {},
   "outputs": [
    {
     "name": "stdout",
     "output_type": "stream",
     "text": [
      "Enter the number:5\n",
      "prime\n"
     ]
    }
   ],
   "source": [
    "n=int(input(\"Enter the number:\"))\n",
    "count = 0\n",
    "for i in range(2,n):\n",
    "    if(n%i==0):\n",
    "        count+=1\n",
    "if(count==0):\n",
    "    print(\"prime\")\n",
    "else:\n",
    "    print(\"not prime\")"
   ]
  },
  {
   "cell_type": "code",
   "execution_count": null,
   "id": "39075f7e",
   "metadata": {},
   "outputs": [],
   "source": []
  }
 ],
 "metadata": {
  "kernelspec": {
   "display_name": "Python 3 (ipykernel)",
   "language": "python",
   "name": "python3"
  },
  "language_info": {
   "codemirror_mode": {
    "name": "ipython",
    "version": 3
   },
   "file_extension": ".py",
   "mimetype": "text/x-python",
   "name": "python",
   "nbconvert_exporter": "python",
   "pygments_lexer": "ipython3",
   "version": "3.11.4"
  }
 },
 "nbformat": 4,
 "nbformat_minor": 5
}

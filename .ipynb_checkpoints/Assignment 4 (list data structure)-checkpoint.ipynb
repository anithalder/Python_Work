{
 "cells": [
  {
   "cell_type": "code",
   "execution_count": 7,
   "id": "8008824f-17c4-4bf5-bfea-8c0a32ed29c6",
   "metadata": {},
   "outputs": [],
   "source": [
    "l = [pow(x,2) for x in range(1,20)]"
   ]
  },
  {
   "cell_type": "code",
   "execution_count": null,
   "id": "836f6538-5183-4e5a-8c7d-749849a66235",
   "metadata": {},
   "outputs": [],
   "source": []
  }
 ],
 "metadata": {
  "kernelspec": {
   "display_name": "Python 3 (ipykernel)",
   "language": "python",
   "name": "python3"
  },
  "language_info": {
   "codemirror_mode": {
    "name": "ipython",
    "version": 3
   },
   "file_extension": ".py",
   "mimetype": "text/x-python",
   "name": "python",
   "nbconvert_exporter": "python",
   "pygments_lexer": "ipython3",
   "version": "3.11.4"
  }
 },
 "nbformat": 4,
 "nbformat_minor": 5
}

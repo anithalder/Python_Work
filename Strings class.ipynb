{
 "cells": [
  {
   "cell_type": "code",
   "execution_count": 2,
   "id": "8375988b",
   "metadata": {},
   "outputs": [
    {
     "name": "stdout",
     "output_type": "stream",
     "text": [
      "Anit\n",
      "Anit\n",
      "<class 'str'>\n"
     ]
    }
   ],
   "source": [
    "a = \"Anit\"\n",
    "a1 = 'Anit'\n",
    "print(a)\n",
    "print(a1)\n",
    "print(type(a))"
   ]
  },
  {
   "cell_type": "code",
   "execution_count": 7,
   "id": "e95eff47",
   "metadata": {},
   "outputs": [
    {
     "name": "stdout",
     "output_type": "stream",
     "text": [
      "A\n",
      "n\n",
      "i\n",
      "t\n"
     ]
    }
   ],
   "source": [
    "# using indexing\n",
    "a = \"Anit\"\n",
    "# print(a[-1])\n",
    "# print(a[0])\n",
    "# print(len(a))\n",
    "i = 0\n",
    "while(i < len(a)):\n",
    "    print(a[i])\n",
    "    i += 1"
   ]
  },
  {
   "cell_type": "code",
   "execution_count": 15,
   "id": "528c71cf",
   "metadata": {},
   "outputs": [
    {
     "name": "stdout",
     "output_type": "stream",
     "text": [
      "yob \n",
      "15\n"
     ]
    }
   ],
   "source": [
    "string = \"I am a good boy\"\n",
    "print(string[:10:-1])\n",
    "print(len(string))"
   ]
  },
  {
   "cell_type": "code",
   "execution_count": 18,
   "id": "9be58793",
   "metadata": {},
   "outputs": [
    {
     "name": "stdout",
     "output_type": "stream",
     "text": [
      "Enter the string: good\n",
      "4\n"
     ]
    }
   ],
   "source": [
    "string = input(\"Enter the string: \")\n",
    "count = 0\n",
    "for i in string:\n",
    "    count += 1\n",
    "print(count)"
   ]
  },
  {
   "cell_type": "code",
   "execution_count": 23,
   "id": "27c99564",
   "metadata": {},
   "outputs": [
    {
     "name": "stdout",
     "output_type": "stream",
     "text": [
      "AnitHalder\n",
      "AnitAnit\n"
     ]
    }
   ],
   "source": [
    "st1 = \"Anit\"\n",
    "st2 = \"Halder\"\n",
    "print(st1 + st2)\n",
    "print(st1 * 2)"
   ]
  },
  {
   "cell_type": "code",
   "execution_count": 25,
   "id": "003bc07b",
   "metadata": {},
   "outputs": [
    {
     "name": "stdout",
     "output_type": "stream",
     "text": [
      "Enter the string:maam\n",
      "\n",
      "\tThis is a plindrom string\n"
     ]
    }
   ],
   "source": [
    "string = input(\"Enter the string:\")\n",
    "\n",
    "temp = \"\"\n",
    "\n",
    "for i in string:\n",
    "    temp = i + temp\n",
    "\n",
    "if temp == string:\n",
    "    print(\"\\n\\tThis is a plindrom string\")\n",
    "else:\n",
    "    print(\"\\n\\tThis is not a palindrom\")"
   ]
  },
  {
   "cell_type": "code",
   "execution_count": 3,
   "id": "7054e258",
   "metadata": {},
   "outputs": [
    {
     "name": "stdout",
     "output_type": "stream",
     "text": [
      "Enter the string:mam\n",
      "\n",
      "\tThis is a plindrom string\n"
     ]
    }
   ],
   "source": [
    "string = input(\"Enter the string:\")\n",
    "\n",
    "temp = \"\"\n",
    "i = len(string)\n",
    "while(i > 0):\n",
    "    temp += string[i-1]\n",
    "    i -= 1\n",
    "\n",
    "if temp == string:\n",
    "    print(\"\\n\\tThis is a plindrom string\")\n",
    "else:\n",
    "    print(\"\\n\\tThis is not a palindrom\")"
   ]
  },
  {
   "cell_type": "code",
   "execution_count": 11,
   "id": "ba2131e3",
   "metadata": {},
   "outputs": [
    {
     "name": "stdout",
     "output_type": "stream",
     "text": [
      "-1\n"
     ]
    }
   ],
   "source": [
    "string = \"i am anit halder\"\n",
    "print(string.find(\"anit\",0,8))"
   ]
  },
  {
   "cell_type": "code",
   "execution_count": 10,
   "id": "7f4458fe",
   "metadata": {},
   "outputs": [
    {
     "name": "stdout",
     "output_type": "stream",
     "text": [
      "5\n"
     ]
    }
   ],
   "source": [
    "string = \"i am anit halder\"\n",
    "print(string.index(\"anit\"))"
   ]
  },
  {
   "cell_type": "code",
   "execution_count": 13,
   "id": "aeba2393",
   "metadata": {},
   "outputs": [
    {
     "name": "stdout",
     "output_type": "stream",
     "text": [
      "Enter the string: i am anit anit halder\n",
      "Enter the substring: anit\n",
      "5\n",
      "10\n"
     ]
    }
   ],
   "source": [
    "string = input(\"Enter the string: \")\n",
    "sub = input(\"Enter the substring: \")\n",
    "n = len(string)\n",
    "pos = -1\n",
    "while True:\n",
    "    pos = string.find(sub,pos+1,n)\n",
    "    if(pos == -1):\n",
    "        break\n",
    "    else:\n",
    "        print(pos)"
   ]
  },
  {
   "cell_type": "code",
   "execution_count": 14,
   "id": "5ae2fef5",
   "metadata": {},
   "outputs": [
    {
     "name": "stdout",
     "output_type": "stream",
     "text": [
      "1\n"
     ]
    }
   ],
   "source": [
    "string = \"i am anit halder\"\n",
    "print(string.count(\"anit\"))"
   ]
  },
  {
   "cell_type": "code",
   "execution_count": 17,
   "id": "39b19947",
   "metadata": {},
   "outputs": [
    {
     "name": "stdout",
     "output_type": "stream",
     "text": [
      "i am amit halder\n",
      "1543958874912\n",
      "1543958872992\n"
     ]
    }
   ],
   "source": [
    "string = \"i am anit halder\"\n",
    "print(string.replace(\"anit\",\"amit\"))\n",
    "st = string.replace(\"anit\",\"amit\")\n",
    "print(id(string))\n",
    "print(id(st))"
   ]
  },
  {
   "cell_type": "code",
   "execution_count": 22,
   "id": "a1302beb",
   "metadata": {},
   "outputs": [
    {
     "name": "stdout",
     "output_type": "stream",
     "text": [
      "i\n",
      "am\n",
      "anit\n",
      "halder\n"
     ]
    }
   ],
   "source": [
    "string = \"i am anit halder\"\n",
    "st = string.split()\n",
    "for i in st:\n",
    "    print(i)"
   ]
  },
  {
   "cell_type": "code",
   "execution_count": 25,
   "id": "591b6753",
   "metadata": {},
   "outputs": [
    {
     "name": "stdout",
     "output_type": "stream",
     "text": [
      "I AM ANIT HALDER\n",
      "i am anit halder\n",
      "I Am Anit Halder\n"
     ]
    }
   ],
   "source": [
    "string = \"i am anit halder\"\n",
    "st = string.upper()\n",
    "print(st)\n",
    "st = string.lower()\n",
    "print(st)\n",
    "st = string.title()\n",
    "print(st)"
   ]
  },
  {
   "cell_type": "code",
   "execution_count": null,
   "id": "31db27ea",
   "metadata": {},
   "outputs": [],
   "source": []
  }
 ],
 "metadata": {
  "kernelspec": {
   "display_name": "Python 3 (ipykernel)",
   "language": "python",
   "name": "python3"
  },
  "language_info": {
   "codemirror_mode": {
    "name": "ipython",
    "version": 3
   },
   "file_extension": ".py",
   "mimetype": "text/x-python",
   "name": "python",
   "nbconvert_exporter": "python",
   "pygments_lexer": "ipython3",
   "version": "3.11.4"
  }
 },
 "nbformat": 4,
 "nbformat_minor": 5
}

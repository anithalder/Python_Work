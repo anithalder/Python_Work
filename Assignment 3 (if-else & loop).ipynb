{
 "cells": [
  {
   "cell_type": "code",
   "execution_count": 4,
   "id": "70da005b",
   "metadata": {},
   "outputs": [
    {
     "name": "stdout",
     "output_type": "stream",
     "text": [
      "Enter the number:0\n",
      "\n",
      "\tThis number is zero\n"
     ]
    }
   ],
   "source": [
    "# poitive,nagative or zero\n",
    "\n",
    "num = int(input(\"Enter the number:\"))\n",
    "if(num < 0):\n",
    "    print(\"\\n\\tThis number nagative\")\n",
    "elif(num == 0):\n",
    "    print(\"\\n\\tThis number is zero\")\n",
    "else:\n",
    "    print(\"\\n\\tThis number is positive\")"
   ]
  },
  {
   "cell_type": "code",
   "execution_count": 8,
   "id": "0f01c623",
   "metadata": {},
   "outputs": [
    {
     "name": "stdout",
     "output_type": "stream",
     "text": [
      "Enter your date of birth:2009\n",
      "Sorry!😔😔 You are eligible after 4 year\n"
     ]
    }
   ],
   "source": [
    "# voter eligibility\n",
    "\n",
    "from datetime import date\n",
    "year = int(input(\"Enter your date of birth:\"))\n",
    "today = date.today()\n",
    "age = today.year - year\n",
    "\n",
    "if(age>=18):\n",
    "    print(\"Congratulation!You are eligible🥳🥳\")\n",
    "else:\n",
    "    print(f\"Sorry!😔😔 You are eligible after {18 - age} year\")"
   ]
  },
  {
   "cell_type": "code",
   "execution_count": null,
   "id": "63052021",
   "metadata": {},
   "outputs": [],
   "source": []
  }
 ],
 "metadata": {
  "kernelspec": {
   "display_name": "Python 3 (ipykernel)",
   "language": "python",
   "name": "python3"
  },
  "language_info": {
   "codemirror_mode": {
    "name": "ipython",
    "version": 3
   },
   "file_extension": ".py",
   "mimetype": "text/x-python",
   "name": "python",
   "nbconvert_exporter": "python",
   "pygments_lexer": "ipython3",
   "version": "3.11.4"
  }
 },
 "nbformat": 4,
 "nbformat_minor": 5
}

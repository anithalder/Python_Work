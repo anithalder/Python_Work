{
 "cells": [
  {
   "cell_type": "code",
   "execution_count": 1,
   "id": "b554d3c7",
   "metadata": {},
   "outputs": [
    {
     "name": "stdout",
     "output_type": "stream",
     "text": [
      "[1, 3, 5, 7, 9]\n"
     ]
    }
   ],
   "source": [
    "l = list(range(1,11,2))\n",
    "print(l)"
   ]
  },
  {
   "cell_type": "code",
   "execution_count": 4,
   "id": "373d62a1",
   "metadata": {},
   "outputs": [
    {
     "name": "stdout",
     "output_type": "stream",
     "text": [
      "[1, 2, 3, 'Anit', 'Halder']\n",
      "<class 'list'>\n"
     ]
    }
   ],
   "source": [
    "list = [1,2,3,\"Anit\",\"Halder\"]\n",
    "print(list)\n",
    "print(type(list))"
   ]
  },
  {
   "cell_type": "code",
   "execution_count": 8,
   "id": "9652ddfb",
   "metadata": {},
   "outputs": [
    {
     "name": "stdout",
     "output_type": "stream",
     "text": [
      "1\n"
     ]
    }
   ],
   "source": [
    "s = \"I am a bad boy\"\n",
    "l = s.split()\n",
    "count = 0\n",
    "for i in l:\n",
    "    if(i == \"a\"):\n",
    "        count += 1\n",
    "print(count)"
   ]
  },
  {
   "cell_type": "code",
   "execution_count": 9,
   "id": "f44ae555",
   "metadata": {},
   "outputs": [
    {
     "name": "stdout",
     "output_type": "stream",
     "text": [
      "['I', 'am', 'a', 'bad', 'boy']\n"
     ]
    }
   ],
   "source": [
    "s = \"I-am-a-bad-boy\"\n",
    "l = s.split(\"-\")\n",
    "print(l)"
   ]
  },
  {
   "cell_type": "code",
   "execution_count": 10,
   "id": "0bafbdbe",
   "metadata": {},
   "outputs": [
    {
     "name": "stdout",
     "output_type": "stream",
     "text": [
      "boy\n"
     ]
    }
   ],
   "source": [
    "s = \"I-am-a-bad-boy\"\n",
    "l = s.split(\"-\")\n",
    "print(l[-1])"
   ]
  },
  {
   "cell_type": "code",
   "execution_count": 11,
   "id": "05d72259",
   "metadata": {},
   "outputs": [
    {
     "name": "stdout",
     "output_type": "stream",
     "text": [
      "I\n",
      "am\n",
      "a\n",
      "bad\n",
      "boy\n"
     ]
    }
   ],
   "source": [
    "s = \"I-am-a-bad-boy\"\n",
    "l = s.split(\"-\")\n",
    "for i in range(len(l)):\n",
    "    print(l[i])"
   ]
  },
  {
   "cell_type": "code",
   "execution_count": 12,
   "id": "3ce1a00f",
   "metadata": {},
   "outputs": [
    {
     "name": "stdout",
     "output_type": "stream",
     "text": [
      "['boy', 'bad', 'a', 'am', 'I']\n"
     ]
    }
   ],
   "source": [
    "s = \"I-am-a-bad-boy\"\n",
    "l = s.split(\"-\")\n",
    "print(l[::-1])  # slice operator"
   ]
  },
  {
   "cell_type": "code",
   "execution_count": 14,
   "id": "7a4d8113",
   "metadata": {},
   "outputs": [
    {
     "name": "stdout",
     "output_type": "stream",
     "text": [
      "1\n",
      "2\n",
      "3\n",
      "4\n",
      "5\n",
      "6\n",
      "7\n",
      "8\n"
     ]
    }
   ],
   "source": [
    "l = [1,2,3,4,5,6,7,8]\n",
    "i = 0\n",
    "while i < len(l):\n",
    "    print(l[i])\n",
    "    i += 1"
   ]
  },
  {
   "cell_type": "code",
   "execution_count": 15,
   "id": "75e44e88",
   "metadata": {},
   "outputs": [
    {
     "name": "stdout",
     "output_type": "stream",
     "text": [
      "Enter the number of elements:5\n",
      "Enter the value:1\n",
      "Enter the value:2\n",
      "Enter the value:3\n",
      "Enter the value:4\n",
      "Enter the value:5\n",
      "['1', '2', '3', '4', '5']\n"
     ]
    }
   ],
   "source": [
    "n = int(input(\"Enter the number of elements:\"))\n",
    "l = []\n",
    "for i in range(n):\n",
    "    value = input(\"Enter the value:\")\n",
    "    l.append(value)\n",
    "print(l)"
   ]
  },
  {
   "cell_type": "code",
   "execution_count": 10,
   "id": "dc50f8fd",
   "metadata": {},
   "outputs": [
    {
     "name": "stdout",
     "output_type": "stream",
     "text": [
      "[20, 30, 20]\n"
     ]
    }
   ],
   "source": [
    "l = [10,20,10,30,10,20,10]\n",
    "r = 10\n",
    "for i in l:\n",
    "    if r == i:\n",
    "        l.remove(i)\n",
    "print(l)"
   ]
  },
  {
   "cell_type": "code",
   "execution_count": 11,
   "id": "243d86f6",
   "metadata": {},
   "outputs": [
    {
     "name": "stdout",
     "output_type": "stream",
     "text": [
      "True\n"
     ]
    }
   ],
   "source": [
    "l = [10,20,30]\n",
    "print(10 in l)"
   ]
  },
  {
   "cell_type": "code",
   "execution_count": 13,
   "id": "a83fd760",
   "metadata": {},
   "outputs": [
    {
     "name": "stdout",
     "output_type": "stream",
     "text": [
      "[10, 20, 30]\n",
      "\n",
      "[40, 50, 60]\n",
      "\n",
      "[70, 80, 90]\n",
      "\n"
     ]
    }
   ],
   "source": [
    "# nested list\n",
    "l = [[10,20,30],[40,50,60],[70,80,90]]\n",
    "for i in l:\n",
    "    print(f\"{i}\\n\")"
   ]
  },
  {
   "cell_type": "code",
   "execution_count": 2,
   "id": "10408c71",
   "metadata": {
    "tags": []
   },
   "outputs": [
    {
     "name": "stdout",
     "output_type": "stream",
     "text": [
      "[4, 16, 36, 64]\n"
     ]
    }
   ],
   "source": [
    "l = [x*x for x in range(1,10) if x%2 == 0]\n",
    "print(l)"
   ]
  },
  {
   "cell_type": "code",
   "execution_count": null,
   "id": "a17c8dd5-3e94-4bf6-8639-db6913bc45a4",
   "metadata": {},
   "outputs": [],
   "source": []
  }
 ],
 "metadata": {
  "kernelspec": {
   "display_name": "Python 3 (ipykernel)",
   "language": "python",
   "name": "python3"
  },
  "language_info": {
   "codemirror_mode": {
    "name": "ipython",
    "version": 3
   },
   "file_extension": ".py",
   "mimetype": "text/x-python",
   "name": "python",
   "nbconvert_exporter": "python",
   "pygments_lexer": "ipython3",
   "version": "3.11.4"
  }
 },
 "nbformat": 4,
 "nbformat_minor": 5
}
